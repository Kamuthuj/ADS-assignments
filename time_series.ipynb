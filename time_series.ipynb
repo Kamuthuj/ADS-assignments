{
  "nbformat": 4,
  "nbformat_minor": 0,
  "metadata": {
    "colab": {
      "provenance": [],
      "authorship_tag": "ABX9TyNJv4c4W0D9SzOUSjF/Jv87",
      "include_colab_link": true
    },
    "kernelspec": {
      "name": "python3",
      "display_name": "Python 3"
    },
    "language_info": {
      "name": "python"
    }
  },
  "cells": [
    {
      "cell_type": "markdown",
      "metadata": {
        "id": "view-in-github",
        "colab_type": "text"
      },
      "source": [
        "<a href=\"https://colab.research.google.com/github/Kamuthuj/ADS-assignments/blob/master/time_series.ipynb\" target=\"_parent\"><img src=\"https://colab.research.google.com/assets/colab-badge.svg\" alt=\"Open In Colab\"/></a>"
      ]
    },
    {
      "cell_type": "code",
      "execution_count": 10,
      "metadata": {
        "colab": {
          "base_uri": "https://localhost:8080/"
        },
        "id": "OSjFovMKFq70",
        "outputId": "2e17073e-fb25-4375-d6a0-2182b0c46c19"
      },
      "outputs": [
        {
          "output_type": "stream",
          "name": "stdout",
          "text": [
            "Requirement already satisfied: yfinance in /usr/local/lib/python3.10/dist-packages (0.2.40)\n",
            "Requirement already satisfied: pandas>=1.3.0 in /usr/local/lib/python3.10/dist-packages (from yfinance) (2.0.3)\n",
            "Requirement already satisfied: numpy>=1.16.5 in /usr/local/lib/python3.10/dist-packages (from yfinance) (1.25.2)\n",
            "Requirement already satisfied: requests>=2.31 in /usr/local/lib/python3.10/dist-packages (from yfinance) (2.31.0)\n",
            "Requirement already satisfied: multitasking>=0.0.7 in /usr/local/lib/python3.10/dist-packages (from yfinance) (0.0.11)\n",
            "Requirement already satisfied: lxml>=4.9.1 in /usr/local/lib/python3.10/dist-packages (from yfinance) (4.9.4)\n",
            "Requirement already satisfied: platformdirs>=2.0.0 in /usr/local/lib/python3.10/dist-packages (from yfinance) (4.2.2)\n",
            "Requirement already satisfied: pytz>=2022.5 in /usr/local/lib/python3.10/dist-packages (from yfinance) (2023.4)\n",
            "Requirement already satisfied: frozendict>=2.3.4 in /usr/local/lib/python3.10/dist-packages (from yfinance) (2.4.4)\n",
            "Requirement already satisfied: peewee>=3.16.2 in /usr/local/lib/python3.10/dist-packages (from yfinance) (3.17.5)\n",
            "Requirement already satisfied: beautifulsoup4>=4.11.1 in /usr/local/lib/python3.10/dist-packages (from yfinance) (4.12.3)\n",
            "Requirement already satisfied: html5lib>=1.1 in /usr/local/lib/python3.10/dist-packages (from yfinance) (1.1)\n",
            "Requirement already satisfied: soupsieve>1.2 in /usr/local/lib/python3.10/dist-packages (from beautifulsoup4>=4.11.1->yfinance) (2.5)\n",
            "Requirement already satisfied: six>=1.9 in /usr/local/lib/python3.10/dist-packages (from html5lib>=1.1->yfinance) (1.16.0)\n",
            "Requirement already satisfied: webencodings in /usr/local/lib/python3.10/dist-packages (from html5lib>=1.1->yfinance) (0.5.1)\n",
            "Requirement already satisfied: python-dateutil>=2.8.2 in /usr/local/lib/python3.10/dist-packages (from pandas>=1.3.0->yfinance) (2.8.2)\n",
            "Requirement already satisfied: tzdata>=2022.1 in /usr/local/lib/python3.10/dist-packages (from pandas>=1.3.0->yfinance) (2024.1)\n",
            "Requirement already satisfied: charset-normalizer<4,>=2 in /usr/local/lib/python3.10/dist-packages (from requests>=2.31->yfinance) (3.3.2)\n",
            "Requirement already satisfied: idna<4,>=2.5 in /usr/local/lib/python3.10/dist-packages (from requests>=2.31->yfinance) (3.7)\n",
            "Requirement already satisfied: urllib3<3,>=1.21.1 in /usr/local/lib/python3.10/dist-packages (from requests>=2.31->yfinance) (2.0.7)\n",
            "Requirement already satisfied: certifi>=2017.4.17 in /usr/local/lib/python3.10/dist-packages (from requests>=2.31->yfinance) (2024.2.2)\n"
          ]
        }
      ],
      "source": [
        "! pip install yfinance"
      ]
    },
    {
      "cell_type": "code",
      "source": [
        "import pandas as pd\n",
        "import yfinance as yf\n",
        "import datetime\n",
        "from datetime import date, timedelta\n",
        "today = date.today()"
      ],
      "metadata": {
        "id": "33whIJalF6pX"
      },
      "execution_count": 11,
      "outputs": []
    },
    {
      "cell_type": "code",
      "source": [
        "# Converting todays date into a string formart.\n",
        "d1= today.strftime(\"%Y-%m-%d\")\n",
        "end_date=d1\n",
        "\n",
        "# Calculating the date 365 days ago\n",
        "d2=date.today() - timedelta(days=365)\n",
        "\n",
        "# Converting d2  to a string formart.\n",
        "d2=d2.strftime(\"%Y-%m-%d\")\n",
        "\n",
        "start_date=d2"
      ],
      "metadata": {
        "id": "JKCYN3DMGJ2O"
      },
      "execution_count": 12,
      "outputs": []
    },
    {
      "cell_type": "code",
      "source": [
        "print(\"Start date:\",d2)\n",
        "print(\"End date:\",d1)"
      ],
      "metadata": {
        "colab": {
          "base_uri": "https://localhost:8080/"
        },
        "id": "soEm3JpKIepF",
        "outputId": "1b41cfb4-dc01-4545-bf11-75442becb9f2"
      },
      "execution_count": 13,
      "outputs": [
        {
          "output_type": "stream",
          "name": "stdout",
          "text": [
            "Start date: 2023-05-31\n",
            "End date: 2024-05-30\n"
          ]
        }
      ]
    },
    {
      "cell_type": "code",
      "source": [
        "# Downloading historical stock data from Apple.\n",
        "\n",
        "data=yf.download(\"AAPL\",start=start_date,end=end_date,progress=False)"
      ],
      "metadata": {
        "id": "0_QxyuoUI0jz"
      },
      "execution_count": 14,
      "outputs": []
    },
    {
      "cell_type": "code",
      "source": [
        "data.head()"
      ],
      "metadata": {
        "colab": {
          "base_uri": "https://localhost:8080/",
          "height": 238
        },
        "id": "m3C6nkM-JhmZ",
        "outputId": "709106dc-44b7-4753-d945-314cfe92de5c"
      },
      "execution_count": 15,
      "outputs": [
        {
          "output_type": "execute_result",
          "data": {
            "text/plain": [
              "                  Open        High         Low       Close   Adj Close  \\\n",
              "Date                                                                     \n",
              "2023-05-31  177.330002  179.350006  176.759995  177.250000  176.313660   \n",
              "2023-06-01  177.699997  180.119995  176.929993  180.089996  179.138611   \n",
              "2023-06-02  181.029999  181.779999  179.259995  180.949997  179.994080   \n",
              "2023-06-05  182.630005  184.949997  178.039993  179.580002  178.631332   \n",
              "2023-06-06  179.970001  180.119995  177.429993  179.210007  178.263306   \n",
              "\n",
              "               Volume  \n",
              "Date                   \n",
              "2023-05-31   99625300  \n",
              "2023-06-01   68901800  \n",
              "2023-06-02   61945900  \n",
              "2023-06-05  121946500  \n",
              "2023-06-06   64848400  "
            ],
            "text/html": [
              "\n",
              "  <div id=\"df-581c249d-26cd-4b79-898b-f230cb141a1c\" class=\"colab-df-container\">\n",
              "    <div>\n",
              "<style scoped>\n",
              "    .dataframe tbody tr th:only-of-type {\n",
              "        vertical-align: middle;\n",
              "    }\n",
              "\n",
              "    .dataframe tbody tr th {\n",
              "        vertical-align: top;\n",
              "    }\n",
              "\n",
              "    .dataframe thead th {\n",
              "        text-align: right;\n",
              "    }\n",
              "</style>\n",
              "<table border=\"1\" class=\"dataframe\">\n",
              "  <thead>\n",
              "    <tr style=\"text-align: right;\">\n",
              "      <th></th>\n",
              "      <th>Open</th>\n",
              "      <th>High</th>\n",
              "      <th>Low</th>\n",
              "      <th>Close</th>\n",
              "      <th>Adj Close</th>\n",
              "      <th>Volume</th>\n",
              "    </tr>\n",
              "    <tr>\n",
              "      <th>Date</th>\n",
              "      <th></th>\n",
              "      <th></th>\n",
              "      <th></th>\n",
              "      <th></th>\n",
              "      <th></th>\n",
              "      <th></th>\n",
              "    </tr>\n",
              "  </thead>\n",
              "  <tbody>\n",
              "    <tr>\n",
              "      <th>2023-05-31</th>\n",
              "      <td>177.330002</td>\n",
              "      <td>179.350006</td>\n",
              "      <td>176.759995</td>\n",
              "      <td>177.250000</td>\n",
              "      <td>176.313660</td>\n",
              "      <td>99625300</td>\n",
              "    </tr>\n",
              "    <tr>\n",
              "      <th>2023-06-01</th>\n",
              "      <td>177.699997</td>\n",
              "      <td>180.119995</td>\n",
              "      <td>176.929993</td>\n",
              "      <td>180.089996</td>\n",
              "      <td>179.138611</td>\n",
              "      <td>68901800</td>\n",
              "    </tr>\n",
              "    <tr>\n",
              "      <th>2023-06-02</th>\n",
              "      <td>181.029999</td>\n",
              "      <td>181.779999</td>\n",
              "      <td>179.259995</td>\n",
              "      <td>180.949997</td>\n",
              "      <td>179.994080</td>\n",
              "      <td>61945900</td>\n",
              "    </tr>\n",
              "    <tr>\n",
              "      <th>2023-06-05</th>\n",
              "      <td>182.630005</td>\n",
              "      <td>184.949997</td>\n",
              "      <td>178.039993</td>\n",
              "      <td>179.580002</td>\n",
              "      <td>178.631332</td>\n",
              "      <td>121946500</td>\n",
              "    </tr>\n",
              "    <tr>\n",
              "      <th>2023-06-06</th>\n",
              "      <td>179.970001</td>\n",
              "      <td>180.119995</td>\n",
              "      <td>177.429993</td>\n",
              "      <td>179.210007</td>\n",
              "      <td>178.263306</td>\n",
              "      <td>64848400</td>\n",
              "    </tr>\n",
              "  </tbody>\n",
              "</table>\n",
              "</div>\n",
              "    <div class=\"colab-df-buttons\">\n",
              "\n",
              "  <div class=\"colab-df-container\">\n",
              "    <button class=\"colab-df-convert\" onclick=\"convertToInteractive('df-581c249d-26cd-4b79-898b-f230cb141a1c')\"\n",
              "            title=\"Convert this dataframe to an interactive table.\"\n",
              "            style=\"display:none;\">\n",
              "\n",
              "  <svg xmlns=\"http://www.w3.org/2000/svg\" height=\"24px\" viewBox=\"0 -960 960 960\">\n",
              "    <path d=\"M120-120v-720h720v720H120Zm60-500h600v-160H180v160Zm220 220h160v-160H400v160Zm0 220h160v-160H400v160ZM180-400h160v-160H180v160Zm440 0h160v-160H620v160ZM180-180h160v-160H180v160Zm440 0h160v-160H620v160Z\"/>\n",
              "  </svg>\n",
              "    </button>\n",
              "\n",
              "  <style>\n",
              "    .colab-df-container {\n",
              "      display:flex;\n",
              "      gap: 12px;\n",
              "    }\n",
              "\n",
              "    .colab-df-convert {\n",
              "      background-color: #E8F0FE;\n",
              "      border: none;\n",
              "      border-radius: 50%;\n",
              "      cursor: pointer;\n",
              "      display: none;\n",
              "      fill: #1967D2;\n",
              "      height: 32px;\n",
              "      padding: 0 0 0 0;\n",
              "      width: 32px;\n",
              "    }\n",
              "\n",
              "    .colab-df-convert:hover {\n",
              "      background-color: #E2EBFA;\n",
              "      box-shadow: 0px 1px 2px rgba(60, 64, 67, 0.3), 0px 1px 3px 1px rgba(60, 64, 67, 0.15);\n",
              "      fill: #174EA6;\n",
              "    }\n",
              "\n",
              "    .colab-df-buttons div {\n",
              "      margin-bottom: 4px;\n",
              "    }\n",
              "\n",
              "    [theme=dark] .colab-df-convert {\n",
              "      background-color: #3B4455;\n",
              "      fill: #D2E3FC;\n",
              "    }\n",
              "\n",
              "    [theme=dark] .colab-df-convert:hover {\n",
              "      background-color: #434B5C;\n",
              "      box-shadow: 0px 1px 3px 1px rgba(0, 0, 0, 0.15);\n",
              "      filter: drop-shadow(0px 1px 2px rgba(0, 0, 0, 0.3));\n",
              "      fill: #FFFFFF;\n",
              "    }\n",
              "  </style>\n",
              "\n",
              "    <script>\n",
              "      const buttonEl =\n",
              "        document.querySelector('#df-581c249d-26cd-4b79-898b-f230cb141a1c button.colab-df-convert');\n",
              "      buttonEl.style.display =\n",
              "        google.colab.kernel.accessAllowed ? 'block' : 'none';\n",
              "\n",
              "      async function convertToInteractive(key) {\n",
              "        const element = document.querySelector('#df-581c249d-26cd-4b79-898b-f230cb141a1c');\n",
              "        const dataTable =\n",
              "          await google.colab.kernel.invokeFunction('convertToInteractive',\n",
              "                                                    [key], {});\n",
              "        if (!dataTable) return;\n",
              "\n",
              "        const docLinkHtml = 'Like what you see? Visit the ' +\n",
              "          '<a target=\"_blank\" href=https://colab.research.google.com/notebooks/data_table.ipynb>data table notebook</a>'\n",
              "          + ' to learn more about interactive tables.';\n",
              "        element.innerHTML = '';\n",
              "        dataTable['output_type'] = 'display_data';\n",
              "        await google.colab.output.renderOutput(dataTable, element);\n",
              "        const docLink = document.createElement('div');\n",
              "        docLink.innerHTML = docLinkHtml;\n",
              "        element.appendChild(docLink);\n",
              "      }\n",
              "    </script>\n",
              "  </div>\n",
              "\n",
              "\n",
              "<div id=\"df-d6546452-995d-4aec-9f59-c214d08a03b5\">\n",
              "  <button class=\"colab-df-quickchart\" onclick=\"quickchart('df-d6546452-995d-4aec-9f59-c214d08a03b5')\"\n",
              "            title=\"Suggest charts\"\n",
              "            style=\"display:none;\">\n",
              "\n",
              "<svg xmlns=\"http://www.w3.org/2000/svg\" height=\"24px\"viewBox=\"0 0 24 24\"\n",
              "     width=\"24px\">\n",
              "    <g>\n",
              "        <path d=\"M19 3H5c-1.1 0-2 .9-2 2v14c0 1.1.9 2 2 2h14c1.1 0 2-.9 2-2V5c0-1.1-.9-2-2-2zM9 17H7v-7h2v7zm4 0h-2V7h2v10zm4 0h-2v-4h2v4z\"/>\n",
              "    </g>\n",
              "</svg>\n",
              "  </button>\n",
              "\n",
              "<style>\n",
              "  .colab-df-quickchart {\n",
              "      --bg-color: #E8F0FE;\n",
              "      --fill-color: #1967D2;\n",
              "      --hover-bg-color: #E2EBFA;\n",
              "      --hover-fill-color: #174EA6;\n",
              "      --disabled-fill-color: #AAA;\n",
              "      --disabled-bg-color: #DDD;\n",
              "  }\n",
              "\n",
              "  [theme=dark] .colab-df-quickchart {\n",
              "      --bg-color: #3B4455;\n",
              "      --fill-color: #D2E3FC;\n",
              "      --hover-bg-color: #434B5C;\n",
              "      --hover-fill-color: #FFFFFF;\n",
              "      --disabled-bg-color: #3B4455;\n",
              "      --disabled-fill-color: #666;\n",
              "  }\n",
              "\n",
              "  .colab-df-quickchart {\n",
              "    background-color: var(--bg-color);\n",
              "    border: none;\n",
              "    border-radius: 50%;\n",
              "    cursor: pointer;\n",
              "    display: none;\n",
              "    fill: var(--fill-color);\n",
              "    height: 32px;\n",
              "    padding: 0;\n",
              "    width: 32px;\n",
              "  }\n",
              "\n",
              "  .colab-df-quickchart:hover {\n",
              "    background-color: var(--hover-bg-color);\n",
              "    box-shadow: 0 1px 2px rgba(60, 64, 67, 0.3), 0 1px 3px 1px rgba(60, 64, 67, 0.15);\n",
              "    fill: var(--button-hover-fill-color);\n",
              "  }\n",
              "\n",
              "  .colab-df-quickchart-complete:disabled,\n",
              "  .colab-df-quickchart-complete:disabled:hover {\n",
              "    background-color: var(--disabled-bg-color);\n",
              "    fill: var(--disabled-fill-color);\n",
              "    box-shadow: none;\n",
              "  }\n",
              "\n",
              "  .colab-df-spinner {\n",
              "    border: 2px solid var(--fill-color);\n",
              "    border-color: transparent;\n",
              "    border-bottom-color: var(--fill-color);\n",
              "    animation:\n",
              "      spin 1s steps(1) infinite;\n",
              "  }\n",
              "\n",
              "  @keyframes spin {\n",
              "    0% {\n",
              "      border-color: transparent;\n",
              "      border-bottom-color: var(--fill-color);\n",
              "      border-left-color: var(--fill-color);\n",
              "    }\n",
              "    20% {\n",
              "      border-color: transparent;\n",
              "      border-left-color: var(--fill-color);\n",
              "      border-top-color: var(--fill-color);\n",
              "    }\n",
              "    30% {\n",
              "      border-color: transparent;\n",
              "      border-left-color: var(--fill-color);\n",
              "      border-top-color: var(--fill-color);\n",
              "      border-right-color: var(--fill-color);\n",
              "    }\n",
              "    40% {\n",
              "      border-color: transparent;\n",
              "      border-right-color: var(--fill-color);\n",
              "      border-top-color: var(--fill-color);\n",
              "    }\n",
              "    60% {\n",
              "      border-color: transparent;\n",
              "      border-right-color: var(--fill-color);\n",
              "    }\n",
              "    80% {\n",
              "      border-color: transparent;\n",
              "      border-right-color: var(--fill-color);\n",
              "      border-bottom-color: var(--fill-color);\n",
              "    }\n",
              "    90% {\n",
              "      border-color: transparent;\n",
              "      border-bottom-color: var(--fill-color);\n",
              "    }\n",
              "  }\n",
              "</style>\n",
              "\n",
              "  <script>\n",
              "    async function quickchart(key) {\n",
              "      const quickchartButtonEl =\n",
              "        document.querySelector('#' + key + ' button');\n",
              "      quickchartButtonEl.disabled = true;  // To prevent multiple clicks.\n",
              "      quickchartButtonEl.classList.add('colab-df-spinner');\n",
              "      try {\n",
              "        const charts = await google.colab.kernel.invokeFunction(\n",
              "            'suggestCharts', [key], {});\n",
              "      } catch (error) {\n",
              "        console.error('Error during call to suggestCharts:', error);\n",
              "      }\n",
              "      quickchartButtonEl.classList.remove('colab-df-spinner');\n",
              "      quickchartButtonEl.classList.add('colab-df-quickchart-complete');\n",
              "    }\n",
              "    (() => {\n",
              "      let quickchartButtonEl =\n",
              "        document.querySelector('#df-d6546452-995d-4aec-9f59-c214d08a03b5 button');\n",
              "      quickchartButtonEl.style.display =\n",
              "        google.colab.kernel.accessAllowed ? 'block' : 'none';\n",
              "    })();\n",
              "  </script>\n",
              "</div>\n",
              "\n",
              "    </div>\n",
              "  </div>\n"
            ],
            "application/vnd.google.colaboratory.intrinsic+json": {
              "type": "dataframe",
              "variable_name": "data",
              "summary": "{\n  \"name\": \"data\",\n  \"rows\": 251,\n  \"fields\": [\n    {\n      \"column\": \"Date\",\n      \"properties\": {\n        \"dtype\": \"date\",\n        \"min\": \"2023-05-31 00:00:00\",\n        \"max\": \"2024-05-29 00:00:00\",\n        \"num_unique_values\": 251,\n        \"samples\": [\n          \"2024-01-11 00:00:00\",\n          \"2023-06-08 00:00:00\",\n          \"2024-01-25 00:00:00\"\n        ],\n        \"semantic_type\": \"\",\n        \"description\": \"\"\n      }\n    },\n    {\n      \"column\": \"Open\",\n      \"properties\": {\n        \"dtype\": \"number\",\n        \"std\": 8.504707247621335,\n        \"min\": 165.35000610351562,\n        \"max\": 198.02000427246094,\n        \"num_unique_values\": 239,\n        \"samples\": [\n          189.83999633789062,\n          177.89999389648438,\n          176.64999389648438\n        ],\n        \"semantic_type\": \"\",\n        \"description\": \"\"\n      }\n    },\n    {\n      \"column\": \"High\",\n      \"properties\": {\n        \"dtype\": \"number\",\n        \"std\": 8.3199760221579,\n        \"min\": 166.39999389648438,\n        \"max\": 199.6199951171875,\n        \"num_unique_values\": 242,\n        \"samples\": [\n          192.6699981689453,\n          182.22999572753906,\n          186.74000549316406\n        ],\n        \"semantic_type\": \"\",\n        \"description\": \"\"\n      }\n    },\n    {\n      \"column\": \"Low\",\n      \"properties\": {\n        \"dtype\": \"number\",\n        \"std\": 8.50339067343334,\n        \"min\": 164.0800018310547,\n        \"max\": 197.0,\n        \"num_unique_values\": 248,\n        \"samples\": [\n          192.64999389648438,\n          177.4600067138672,\n          182.22999572753906\n        ],\n        \"semantic_type\": \"\",\n        \"description\": \"\"\n      }\n    },\n    {\n      \"column\": \"Close\",\n      \"properties\": {\n        \"dtype\": \"number\",\n        \"std\": 8.450610761218968,\n        \"min\": 165.0,\n        \"max\": 198.11000061035156,\n        \"num_unique_values\": 243,\n        \"samples\": [\n          191.80999755859375,\n          180.57000732421875,\n          185.9199981689453\n        ],\n        \"semantic_type\": \"\",\n        \"description\": \"\"\n      }\n    },\n    {\n      \"column\": \"Adj Close\",\n      \"properties\": {\n        \"dtype\": \"number\",\n        \"std\": 8.379995793858631,\n        \"min\": 164.77650451660156,\n        \"max\": 197.5895233154297,\n        \"num_unique_values\": 249,\n        \"samples\": [\n          197.0509490966797,\n          179.61610412597656,\n          174.76878356933594\n        ],\n        \"semantic_type\": \"\",\n        \"description\": \"\"\n      }\n    },\n    {\n      \"column\": \"Volume\",\n      \"properties\": {\n        \"dtype\": \"number\",\n        \"std\": 18815103,\n        \"min\": 24048300,\n        \"max\": 163224100,\n        \"num_unique_values\": 251,\n        \"samples\": [\n          49128400,\n          50214900,\n          54822100\n        ],\n        \"semantic_type\": \"\",\n        \"description\": \"\"\n      }\n    }\n  ]\n}"
            }
          },
          "metadata": {},
          "execution_count": 15
        }
      ]
    },
    {
      "cell_type": "code",
      "source": [
        "import plotly.express as px\n",
        "\n",
        "fig=px.line(data,x=data.index,y=\"Close\",title=\"Time series for Apple stock.\")\n",
        "fig.show()"
      ],
      "metadata": {
        "colab": {
          "base_uri": "https://localhost:8080/",
          "height": 542
        },
        "id": "ZqC0sVJtJlap",
        "outputId": "26f725fa-614f-4a40-a69a-ce1b22f453e4"
      },
      "execution_count": 16,
      "outputs": [
        {
          "output_type": "display_data",
          "data": {
            "text/html": [
              "<html>\n",
              "<head><meta charset=\"utf-8\" /></head>\n",
              "<body>\n",
              "    <div>            <script src=\"https://cdnjs.cloudflare.com/ajax/libs/mathjax/2.7.5/MathJax.js?config=TeX-AMS-MML_SVG\"></script><script type=\"text/javascript\">if (window.MathJax && window.MathJax.Hub && window.MathJax.Hub.Config) {window.MathJax.Hub.Config({SVG: {font: \"STIX-Web\"}});}</script>                <script type=\"text/javascript\">window.PlotlyConfig = {MathJaxConfig: 'local'};</script>\n",
              "        <script charset=\"utf-8\" src=\"https://cdn.plot.ly/plotly-2.24.1.min.js\"></script>                <div id=\"729690b9-6990-4a5c-befc-56684cca44ff\" class=\"plotly-graph-div\" style=\"height:525px; width:100%;\"></div>            <script type=\"text/javascript\">                                    window.PLOTLYENV=window.PLOTLYENV || {};                                    if (document.getElementById(\"729690b9-6990-4a5c-befc-56684cca44ff\")) {                    Plotly.newPlot(                        \"729690b9-6990-4a5c-befc-56684cca44ff\",                        [{\"hovertemplate\":\"Date=%{x}\\u003cbr\\u003eClose=%{y}\\u003cextra\\u003e\\u003c\\u002fextra\\u003e\",\"legendgroup\":\"\",\"line\":{\"color\":\"#636efa\",\"dash\":\"solid\"},\"marker\":{\"symbol\":\"circle\"},\"mode\":\"lines\",\"name\":\"\",\"orientation\":\"v\",\"showlegend\":false,\"x\":[\"2023-05-31T00:00:00\",\"2023-06-01T00:00:00\",\"2023-06-02T00:00:00\",\"2023-06-05T00:00:00\",\"2023-06-06T00:00:00\",\"2023-06-07T00:00:00\",\"2023-06-08T00:00:00\",\"2023-06-09T00:00:00\",\"2023-06-12T00:00:00\",\"2023-06-13T00:00:00\",\"2023-06-14T00:00:00\",\"2023-06-15T00:00:00\",\"2023-06-16T00:00:00\",\"2023-06-20T00:00:00\",\"2023-06-21T00:00:00\",\"2023-06-22T00:00:00\",\"2023-06-23T00:00:00\",\"2023-06-26T00:00:00\",\"2023-06-27T00:00:00\",\"2023-06-28T00:00:00\",\"2023-06-29T00:00:00\",\"2023-06-30T00:00:00\",\"2023-07-03T00:00:00\",\"2023-07-05T00:00:00\",\"2023-07-06T00:00:00\",\"2023-07-07T00:00:00\",\"2023-07-10T00:00:00\",\"2023-07-11T00:00:00\",\"2023-07-12T00:00:00\",\"2023-07-13T00:00:00\",\"2023-07-14T00:00:00\",\"2023-07-17T00:00:00\",\"2023-07-18T00:00:00\",\"2023-07-19T00:00:00\",\"2023-07-20T00:00:00\",\"2023-07-21T00:00:00\",\"2023-07-24T00:00:00\",\"2023-07-25T00:00:00\",\"2023-07-26T00:00:00\",\"2023-07-27T00:00:00\",\"2023-07-28T00:00:00\",\"2023-07-31T00:00:00\",\"2023-08-01T00:00:00\",\"2023-08-02T00:00:00\",\"2023-08-03T00:00:00\",\"2023-08-04T00:00:00\",\"2023-08-07T00:00:00\",\"2023-08-08T00:00:00\",\"2023-08-09T00:00:00\",\"2023-08-10T00:00:00\",\"2023-08-11T00:00:00\",\"2023-08-14T00:00:00\",\"2023-08-15T00:00:00\",\"2023-08-16T00:00:00\",\"2023-08-17T00:00:00\",\"2023-08-18T00:00:00\",\"2023-08-21T00:00:00\",\"2023-08-22T00:00:00\",\"2023-08-23T00:00:00\",\"2023-08-24T00:00:00\",\"2023-08-25T00:00:00\",\"2023-08-28T00:00:00\",\"2023-08-29T00:00:00\",\"2023-08-30T00:00:00\",\"2023-08-31T00:00:00\",\"2023-09-01T00:00:00\",\"2023-09-05T00:00:00\",\"2023-09-06T00:00:00\",\"2023-09-07T00:00:00\",\"2023-09-08T00:00:00\",\"2023-09-11T00:00:00\",\"2023-09-12T00:00:00\",\"2023-09-13T00:00:00\",\"2023-09-14T00:00:00\",\"2023-09-15T00:00:00\",\"2023-09-18T00:00:00\",\"2023-09-19T00:00:00\",\"2023-09-20T00:00:00\",\"2023-09-21T00:00:00\",\"2023-09-22T00:00:00\",\"2023-09-25T00:00:00\",\"2023-09-26T00:00:00\",\"2023-09-27T00:00:00\",\"2023-09-28T00:00:00\",\"2023-09-29T00:00:00\",\"2023-10-02T00:00:00\",\"2023-10-03T00:00:00\",\"2023-10-04T00:00:00\",\"2023-10-05T00:00:00\",\"2023-10-06T00:00:00\",\"2023-10-09T00:00:00\",\"2023-10-10T00:00:00\",\"2023-10-11T00:00:00\",\"2023-10-12T00:00:00\",\"2023-10-13T00:00:00\",\"2023-10-16T00:00:00\",\"2023-10-17T00:00:00\",\"2023-10-18T00:00:00\",\"2023-10-19T00:00:00\",\"2023-10-20T00:00:00\",\"2023-10-23T00:00:00\",\"2023-10-24T00:00:00\",\"2023-10-25T00:00:00\",\"2023-10-26T00:00:00\",\"2023-10-27T00:00:00\",\"2023-10-30T00:00:00\",\"2023-10-31T00:00:00\",\"2023-11-01T00:00:00\",\"2023-11-02T00:00:00\",\"2023-11-03T00:00:00\",\"2023-11-06T00:00:00\",\"2023-11-07T00:00:00\",\"2023-11-08T00:00:00\",\"2023-11-09T00:00:00\",\"2023-11-10T00:00:00\",\"2023-11-13T00:00:00\",\"2023-11-14T00:00:00\",\"2023-11-15T00:00:00\",\"2023-11-16T00:00:00\",\"2023-11-17T00:00:00\",\"2023-11-20T00:00:00\",\"2023-11-21T00:00:00\",\"2023-11-22T00:00:00\",\"2023-11-24T00:00:00\",\"2023-11-27T00:00:00\",\"2023-11-28T00:00:00\",\"2023-11-29T00:00:00\",\"2023-11-30T00:00:00\",\"2023-12-01T00:00:00\",\"2023-12-04T00:00:00\",\"2023-12-05T00:00:00\",\"2023-12-06T00:00:00\",\"2023-12-07T00:00:00\",\"2023-12-08T00:00:00\",\"2023-12-11T00:00:00\",\"2023-12-12T00:00:00\",\"2023-12-13T00:00:00\",\"2023-12-14T00:00:00\",\"2023-12-15T00:00:00\",\"2023-12-18T00:00:00\",\"2023-12-19T00:00:00\",\"2023-12-20T00:00:00\",\"2023-12-21T00:00:00\",\"2023-12-22T00:00:00\",\"2023-12-26T00:00:00\",\"2023-12-27T00:00:00\",\"2023-12-28T00:00:00\",\"2023-12-29T00:00:00\",\"2024-01-02T00:00:00\",\"2024-01-03T00:00:00\",\"2024-01-04T00:00:00\",\"2024-01-05T00:00:00\",\"2024-01-08T00:00:00\",\"2024-01-09T00:00:00\",\"2024-01-10T00:00:00\",\"2024-01-11T00:00:00\",\"2024-01-12T00:00:00\",\"2024-01-16T00:00:00\",\"2024-01-17T00:00:00\",\"2024-01-18T00:00:00\",\"2024-01-19T00:00:00\",\"2024-01-22T00:00:00\",\"2024-01-23T00:00:00\",\"2024-01-24T00:00:00\",\"2024-01-25T00:00:00\",\"2024-01-26T00:00:00\",\"2024-01-29T00:00:00\",\"2024-01-30T00:00:00\",\"2024-01-31T00:00:00\",\"2024-02-01T00:00:00\",\"2024-02-02T00:00:00\",\"2024-02-05T00:00:00\",\"2024-02-06T00:00:00\",\"2024-02-07T00:00:00\",\"2024-02-08T00:00:00\",\"2024-02-09T00:00:00\",\"2024-02-12T00:00:00\",\"2024-02-13T00:00:00\",\"2024-02-14T00:00:00\",\"2024-02-15T00:00:00\",\"2024-02-16T00:00:00\",\"2024-02-20T00:00:00\",\"2024-02-21T00:00:00\",\"2024-02-22T00:00:00\",\"2024-02-23T00:00:00\",\"2024-02-26T00:00:00\",\"2024-02-27T00:00:00\",\"2024-02-28T00:00:00\",\"2024-02-29T00:00:00\",\"2024-03-01T00:00:00\",\"2024-03-04T00:00:00\",\"2024-03-05T00:00:00\",\"2024-03-06T00:00:00\",\"2024-03-07T00:00:00\",\"2024-03-08T00:00:00\",\"2024-03-11T00:00:00\",\"2024-03-12T00:00:00\",\"2024-03-13T00:00:00\",\"2024-03-14T00:00:00\",\"2024-03-15T00:00:00\",\"2024-03-18T00:00:00\",\"2024-03-19T00:00:00\",\"2024-03-20T00:00:00\",\"2024-03-21T00:00:00\",\"2024-03-22T00:00:00\",\"2024-03-25T00:00:00\",\"2024-03-26T00:00:00\",\"2024-03-27T00:00:00\",\"2024-03-28T00:00:00\",\"2024-04-01T00:00:00\",\"2024-04-02T00:00:00\",\"2024-04-03T00:00:00\",\"2024-04-04T00:00:00\",\"2024-04-05T00:00:00\",\"2024-04-08T00:00:00\",\"2024-04-09T00:00:00\",\"2024-04-10T00:00:00\",\"2024-04-11T00:00:00\",\"2024-04-12T00:00:00\",\"2024-04-15T00:00:00\",\"2024-04-16T00:00:00\",\"2024-04-17T00:00:00\",\"2024-04-18T00:00:00\",\"2024-04-19T00:00:00\",\"2024-04-22T00:00:00\",\"2024-04-23T00:00:00\",\"2024-04-24T00:00:00\",\"2024-04-25T00:00:00\",\"2024-04-26T00:00:00\",\"2024-04-29T00:00:00\",\"2024-04-30T00:00:00\",\"2024-05-01T00:00:00\",\"2024-05-02T00:00:00\",\"2024-05-03T00:00:00\",\"2024-05-06T00:00:00\",\"2024-05-07T00:00:00\",\"2024-05-08T00:00:00\",\"2024-05-09T00:00:00\",\"2024-05-10T00:00:00\",\"2024-05-13T00:00:00\",\"2024-05-14T00:00:00\",\"2024-05-15T00:00:00\",\"2024-05-16T00:00:00\",\"2024-05-17T00:00:00\",\"2024-05-20T00:00:00\",\"2024-05-21T00:00:00\",\"2024-05-22T00:00:00\",\"2024-05-23T00:00:00\",\"2024-05-24T00:00:00\",\"2024-05-28T00:00:00\",\"2024-05-29T00:00:00\"],\"xaxis\":\"x\",\"y\":[177.25,180.08999633789062,180.9499969482422,179.5800018310547,179.2100067138672,177.82000732421875,180.57000732421875,180.9600067138672,183.7899932861328,183.30999755859375,183.9499969482422,186.00999450683594,184.9199981689453,185.00999450683594,183.9600067138672,187.0,186.67999267578125,185.27000427246094,188.05999755859375,189.25,189.58999633789062,193.97000122070312,192.4600067138672,191.3300018310547,191.80999755859375,190.67999267578125,188.61000061035156,188.0800018310547,189.77000427246094,190.5399932861328,190.69000244140625,193.99000549316406,193.72999572753906,195.10000610351562,193.1300048828125,191.94000244140625,192.75,193.6199951171875,194.5,193.22000122070312,195.8300018310547,196.4499969482422,195.61000061035156,192.5800018310547,191.1699981689453,181.99000549316406,178.85000610351562,179.8000030517578,178.19000244140625,177.97000122070312,177.7899932861328,179.4600067138672,177.4499969482422,176.57000732421875,174.0,174.49000549316406,175.83999633789062,177.22999572753906,181.1199951171875,176.3800048828125,178.61000061035156,180.19000244140625,184.1199951171875,187.64999389648438,187.8699951171875,189.4600067138672,189.6999969482422,182.91000366210938,177.55999755859375,178.17999267578125,179.36000061035156,176.3000030517578,174.2100067138672,175.74000549316406,175.00999450683594,177.97000122070312,179.07000732421875,175.49000549316406,173.92999267578125,174.7899932861328,176.0800018310547,171.9600067138672,170.42999267578125,170.69000244140625,171.2100067138672,173.75,172.39999389648438,173.66000366210938,174.91000366210938,177.49000549316406,178.99000549316406,178.38999938964844,179.8000030517578,180.7100067138672,178.85000610351562,178.72000122070312,177.14999389648438,175.83999633789062,175.4600067138672,172.8800048828125,173.0,173.44000244140625,171.10000610351562,166.88999938964844,168.22000122070312,170.2899932861328,170.77000427246094,173.97000122070312,177.57000732421875,176.64999389648438,179.22999572753906,181.82000732421875,182.88999938964844,182.41000366210938,186.39999389648438,184.8000030517578,187.44000244140625,188.00999450683594,189.7100067138672,189.69000244140625,191.4499969482422,190.63999938964844,191.30999755859375,189.97000122070312,189.7899932861328,190.39999389648438,189.3699951171875,189.9499969482422,191.24000549316406,189.42999267578125,193.4199981689453,192.32000732421875,194.27000427246094,195.7100067138672,193.17999267578125,194.7100067138672,197.9600067138672,198.11000061035156,197.57000732421875,195.88999938964844,196.94000244140625,194.8300018310547,194.67999267578125,193.60000610351562,193.0500030517578,193.14999389648438,193.5800018310547,192.52999877929688,185.63999938964844,184.25,181.91000366210938,181.17999267578125,185.55999755859375,185.13999938964844,186.19000244140625,185.58999633789062,185.9199981689453,183.6300048828125,182.67999267578125,188.6300048828125,191.55999755859375,193.88999938964844,195.17999267578125,194.5,194.1699981689453,192.4199981689453,191.72999572753906,188.0399932861328,184.39999389648438,186.86000061035156,185.85000610351562,187.67999267578125,189.3000030517578,189.41000366210938,188.32000732421875,188.85000610351562,187.14999389648438,185.0399932861328,184.14999389648438,183.86000061035156,182.30999755859375,181.55999755859375,182.32000732421875,184.3699951171875,182.52000427246094,181.16000366210938,182.6300048828125,181.4199981689453,180.75,179.66000366210938,175.10000610351562,170.1199951171875,169.1199951171875,169.0,170.72999572753906,172.75,173.22999572753906,171.1300048828125,173.0,172.6199951171875,173.72000122070312,176.0800018310547,178.6699981689453,171.3699951171875,172.27999877929688,170.85000610351562,169.7100067138672,173.30999755859375,171.47999572753906,170.02999877929688,168.83999633789062,169.64999389648438,168.82000732421875,169.5800018310547,168.4499969482422,169.6699981689453,167.77999877929688,175.0399932861328,176.5500030517578,172.69000244140625,169.3800048828125,168.0,167.0399932861328,165.0,165.83999633789062,166.89999389648438,169.02000427246094,169.88999938964844,169.3000030517578,173.5,170.3300018310547,169.3000030517578,173.02999877929688,183.3800048828125,181.7100067138672,182.39999389648438,182.74000549316406,184.57000732421875,183.0500030517578,186.27999877929688,187.42999267578125,189.72000122070312,189.83999633789062,189.8699951171875,191.0399932861328,192.35000610351562,190.89999389648438,186.8800048828125,189.97999572753906,189.99000549316406,190.2899932861328],\"yaxis\":\"y\",\"type\":\"scatter\"}],                        {\"template\":{\"data\":{\"histogram2dcontour\":[{\"type\":\"histogram2dcontour\",\"colorbar\":{\"outlinewidth\":0,\"ticks\":\"\"},\"colorscale\":[[0.0,\"#0d0887\"],[0.1111111111111111,\"#46039f\"],[0.2222222222222222,\"#7201a8\"],[0.3333333333333333,\"#9c179e\"],[0.4444444444444444,\"#bd3786\"],[0.5555555555555556,\"#d8576b\"],[0.6666666666666666,\"#ed7953\"],[0.7777777777777778,\"#fb9f3a\"],[0.8888888888888888,\"#fdca26\"],[1.0,\"#f0f921\"]]}],\"choropleth\":[{\"type\":\"choropleth\",\"colorbar\":{\"outlinewidth\":0,\"ticks\":\"\"}}],\"histogram2d\":[{\"type\":\"histogram2d\",\"colorbar\":{\"outlinewidth\":0,\"ticks\":\"\"},\"colorscale\":[[0.0,\"#0d0887\"],[0.1111111111111111,\"#46039f\"],[0.2222222222222222,\"#7201a8\"],[0.3333333333333333,\"#9c179e\"],[0.4444444444444444,\"#bd3786\"],[0.5555555555555556,\"#d8576b\"],[0.6666666666666666,\"#ed7953\"],[0.7777777777777778,\"#fb9f3a\"],[0.8888888888888888,\"#fdca26\"],[1.0,\"#f0f921\"]]}],\"heatmap\":[{\"type\":\"heatmap\",\"colorbar\":{\"outlinewidth\":0,\"ticks\":\"\"},\"colorscale\":[[0.0,\"#0d0887\"],[0.1111111111111111,\"#46039f\"],[0.2222222222222222,\"#7201a8\"],[0.3333333333333333,\"#9c179e\"],[0.4444444444444444,\"#bd3786\"],[0.5555555555555556,\"#d8576b\"],[0.6666666666666666,\"#ed7953\"],[0.7777777777777778,\"#fb9f3a\"],[0.8888888888888888,\"#fdca26\"],[1.0,\"#f0f921\"]]}],\"heatmapgl\":[{\"type\":\"heatmapgl\",\"colorbar\":{\"outlinewidth\":0,\"ticks\":\"\"},\"colorscale\":[[0.0,\"#0d0887\"],[0.1111111111111111,\"#46039f\"],[0.2222222222222222,\"#7201a8\"],[0.3333333333333333,\"#9c179e\"],[0.4444444444444444,\"#bd3786\"],[0.5555555555555556,\"#d8576b\"],[0.6666666666666666,\"#ed7953\"],[0.7777777777777778,\"#fb9f3a\"],[0.8888888888888888,\"#fdca26\"],[1.0,\"#f0f921\"]]}],\"contourcarpet\":[{\"type\":\"contourcarpet\",\"colorbar\":{\"outlinewidth\":0,\"ticks\":\"\"}}],\"contour\":[{\"type\":\"contour\",\"colorbar\":{\"outlinewidth\":0,\"ticks\":\"\"},\"colorscale\":[[0.0,\"#0d0887\"],[0.1111111111111111,\"#46039f\"],[0.2222222222222222,\"#7201a8\"],[0.3333333333333333,\"#9c179e\"],[0.4444444444444444,\"#bd3786\"],[0.5555555555555556,\"#d8576b\"],[0.6666666666666666,\"#ed7953\"],[0.7777777777777778,\"#fb9f3a\"],[0.8888888888888888,\"#fdca26\"],[1.0,\"#f0f921\"]]}],\"surface\":[{\"type\":\"surface\",\"colorbar\":{\"outlinewidth\":0,\"ticks\":\"\"},\"colorscale\":[[0.0,\"#0d0887\"],[0.1111111111111111,\"#46039f\"],[0.2222222222222222,\"#7201a8\"],[0.3333333333333333,\"#9c179e\"],[0.4444444444444444,\"#bd3786\"],[0.5555555555555556,\"#d8576b\"],[0.6666666666666666,\"#ed7953\"],[0.7777777777777778,\"#fb9f3a\"],[0.8888888888888888,\"#fdca26\"],[1.0,\"#f0f921\"]]}],\"mesh3d\":[{\"type\":\"mesh3d\",\"colorbar\":{\"outlinewidth\":0,\"ticks\":\"\"}}],\"scatter\":[{\"fillpattern\":{\"fillmode\":\"overlay\",\"size\":10,\"solidity\":0.2},\"type\":\"scatter\"}],\"parcoords\":[{\"type\":\"parcoords\",\"line\":{\"colorbar\":{\"outlinewidth\":0,\"ticks\":\"\"}}}],\"scatterpolargl\":[{\"type\":\"scatterpolargl\",\"marker\":{\"colorbar\":{\"outlinewidth\":0,\"ticks\":\"\"}}}],\"bar\":[{\"error_x\":{\"color\":\"#2a3f5f\"},\"error_y\":{\"color\":\"#2a3f5f\"},\"marker\":{\"line\":{\"color\":\"#E5ECF6\",\"width\":0.5},\"pattern\":{\"fillmode\":\"overlay\",\"size\":10,\"solidity\":0.2}},\"type\":\"bar\"}],\"scattergeo\":[{\"type\":\"scattergeo\",\"marker\":{\"colorbar\":{\"outlinewidth\":0,\"ticks\":\"\"}}}],\"scatterpolar\":[{\"type\":\"scatterpolar\",\"marker\":{\"colorbar\":{\"outlinewidth\":0,\"ticks\":\"\"}}}],\"histogram\":[{\"marker\":{\"pattern\":{\"fillmode\":\"overlay\",\"size\":10,\"solidity\":0.2}},\"type\":\"histogram\"}],\"scattergl\":[{\"type\":\"scattergl\",\"marker\":{\"colorbar\":{\"outlinewidth\":0,\"ticks\":\"\"}}}],\"scatter3d\":[{\"type\":\"scatter3d\",\"line\":{\"colorbar\":{\"outlinewidth\":0,\"ticks\":\"\"}},\"marker\":{\"colorbar\":{\"outlinewidth\":0,\"ticks\":\"\"}}}],\"scattermapbox\":[{\"type\":\"scattermapbox\",\"marker\":{\"colorbar\":{\"outlinewidth\":0,\"ticks\":\"\"}}}],\"scatterternary\":[{\"type\":\"scatterternary\",\"marker\":{\"colorbar\":{\"outlinewidth\":0,\"ticks\":\"\"}}}],\"scattercarpet\":[{\"type\":\"scattercarpet\",\"marker\":{\"colorbar\":{\"outlinewidth\":0,\"ticks\":\"\"}}}],\"carpet\":[{\"aaxis\":{\"endlinecolor\":\"#2a3f5f\",\"gridcolor\":\"white\",\"linecolor\":\"white\",\"minorgridcolor\":\"white\",\"startlinecolor\":\"#2a3f5f\"},\"baxis\":{\"endlinecolor\":\"#2a3f5f\",\"gridcolor\":\"white\",\"linecolor\":\"white\",\"minorgridcolor\":\"white\",\"startlinecolor\":\"#2a3f5f\"},\"type\":\"carpet\"}],\"table\":[{\"cells\":{\"fill\":{\"color\":\"#EBF0F8\"},\"line\":{\"color\":\"white\"}},\"header\":{\"fill\":{\"color\":\"#C8D4E3\"},\"line\":{\"color\":\"white\"}},\"type\":\"table\"}],\"barpolar\":[{\"marker\":{\"line\":{\"color\":\"#E5ECF6\",\"width\":0.5},\"pattern\":{\"fillmode\":\"overlay\",\"size\":10,\"solidity\":0.2}},\"type\":\"barpolar\"}],\"pie\":[{\"automargin\":true,\"type\":\"pie\"}]},\"layout\":{\"autotypenumbers\":\"strict\",\"colorway\":[\"#636efa\",\"#EF553B\",\"#00cc96\",\"#ab63fa\",\"#FFA15A\",\"#19d3f3\",\"#FF6692\",\"#B6E880\",\"#FF97FF\",\"#FECB52\"],\"font\":{\"color\":\"#2a3f5f\"},\"hovermode\":\"closest\",\"hoverlabel\":{\"align\":\"left\"},\"paper_bgcolor\":\"white\",\"plot_bgcolor\":\"#E5ECF6\",\"polar\":{\"bgcolor\":\"#E5ECF6\",\"angularaxis\":{\"gridcolor\":\"white\",\"linecolor\":\"white\",\"ticks\":\"\"},\"radialaxis\":{\"gridcolor\":\"white\",\"linecolor\":\"white\",\"ticks\":\"\"}},\"ternary\":{\"bgcolor\":\"#E5ECF6\",\"aaxis\":{\"gridcolor\":\"white\",\"linecolor\":\"white\",\"ticks\":\"\"},\"baxis\":{\"gridcolor\":\"white\",\"linecolor\":\"white\",\"ticks\":\"\"},\"caxis\":{\"gridcolor\":\"white\",\"linecolor\":\"white\",\"ticks\":\"\"}},\"coloraxis\":{\"colorbar\":{\"outlinewidth\":0,\"ticks\":\"\"}},\"colorscale\":{\"sequential\":[[0.0,\"#0d0887\"],[0.1111111111111111,\"#46039f\"],[0.2222222222222222,\"#7201a8\"],[0.3333333333333333,\"#9c179e\"],[0.4444444444444444,\"#bd3786\"],[0.5555555555555556,\"#d8576b\"],[0.6666666666666666,\"#ed7953\"],[0.7777777777777778,\"#fb9f3a\"],[0.8888888888888888,\"#fdca26\"],[1.0,\"#f0f921\"]],\"sequentialminus\":[[0.0,\"#0d0887\"],[0.1111111111111111,\"#46039f\"],[0.2222222222222222,\"#7201a8\"],[0.3333333333333333,\"#9c179e\"],[0.4444444444444444,\"#bd3786\"],[0.5555555555555556,\"#d8576b\"],[0.6666666666666666,\"#ed7953\"],[0.7777777777777778,\"#fb9f3a\"],[0.8888888888888888,\"#fdca26\"],[1.0,\"#f0f921\"]],\"diverging\":[[0,\"#8e0152\"],[0.1,\"#c51b7d\"],[0.2,\"#de77ae\"],[0.3,\"#f1b6da\"],[0.4,\"#fde0ef\"],[0.5,\"#f7f7f7\"],[0.6,\"#e6f5d0\"],[0.7,\"#b8e186\"],[0.8,\"#7fbc41\"],[0.9,\"#4d9221\"],[1,\"#276419\"]]},\"xaxis\":{\"gridcolor\":\"white\",\"linecolor\":\"white\",\"ticks\":\"\",\"title\":{\"standoff\":15},\"zerolinecolor\":\"white\",\"automargin\":true,\"zerolinewidth\":2},\"yaxis\":{\"gridcolor\":\"white\",\"linecolor\":\"white\",\"ticks\":\"\",\"title\":{\"standoff\":15},\"zerolinecolor\":\"white\",\"automargin\":true,\"zerolinewidth\":2},\"scene\":{\"xaxis\":{\"backgroundcolor\":\"#E5ECF6\",\"gridcolor\":\"white\",\"linecolor\":\"white\",\"showbackground\":true,\"ticks\":\"\",\"zerolinecolor\":\"white\",\"gridwidth\":2},\"yaxis\":{\"backgroundcolor\":\"#E5ECF6\",\"gridcolor\":\"white\",\"linecolor\":\"white\",\"showbackground\":true,\"ticks\":\"\",\"zerolinecolor\":\"white\",\"gridwidth\":2},\"zaxis\":{\"backgroundcolor\":\"#E5ECF6\",\"gridcolor\":\"white\",\"linecolor\":\"white\",\"showbackground\":true,\"ticks\":\"\",\"zerolinecolor\":\"white\",\"gridwidth\":2}},\"shapedefaults\":{\"line\":{\"color\":\"#2a3f5f\"}},\"annotationdefaults\":{\"arrowcolor\":\"#2a3f5f\",\"arrowhead\":0,\"arrowwidth\":1},\"geo\":{\"bgcolor\":\"white\",\"landcolor\":\"#E5ECF6\",\"subunitcolor\":\"white\",\"showland\":true,\"showlakes\":true,\"lakecolor\":\"white\"},\"title\":{\"x\":0.05},\"mapbox\":{\"style\":\"light\"}}},\"xaxis\":{\"anchor\":\"y\",\"domain\":[0.0,1.0],\"title\":{\"text\":\"Date\"}},\"yaxis\":{\"anchor\":\"x\",\"domain\":[0.0,1.0],\"title\":{\"text\":\"Close\"}},\"legend\":{\"tracegroupgap\":0},\"title\":{\"text\":\"Time series for Apple stock.\"}},                        {\"responsive\": true}                    ).then(function(){\n",
              "                            \n",
              "var gd = document.getElementById('729690b9-6990-4a5c-befc-56684cca44ff');\n",
              "var x = new MutationObserver(function (mutations, observer) {{\n",
              "        var display = window.getComputedStyle(gd).display;\n",
              "        if (!display || display === 'none') {{\n",
              "            console.log([gd, 'removed!']);\n",
              "            Plotly.purge(gd);\n",
              "            observer.disconnect();\n",
              "        }}\n",
              "}});\n",
              "\n",
              "// Listen for the removal of the full notebook cells\n",
              "var notebookContainer = gd.closest('#notebook-container');\n",
              "if (notebookContainer) {{\n",
              "    x.observe(notebookContainer, {childList: true});\n",
              "}}\n",
              "\n",
              "// Listen for the clearing of the current output cell\n",
              "var outputEl = gd.closest('.output');\n",
              "if (outputEl) {{\n",
              "    x.observe(outputEl, {childList: true});\n",
              "}}\n",
              "\n",
              "                        })                };                            </script>        </div>\n",
              "</body>\n",
              "</html>"
            ]
          },
          "metadata": {}
        }
      ]
    },
    {
      "cell_type": "code",
      "source": [
        "import plotly.graph_objects as go\n",
        "\n",
        "figure=go.Figure(data=[go.Candlestick(x=data.index,\n",
        "                                    open=data[\"Open\"],\n",
        "                                    high=data[\"High\"],\n",
        "                                    low=data[\"Low\"],\n",
        "                                    close=data[\"Close\"])])\n",
        "figure.update_layout(title = \"Time Series Analysis (Candlestick Chart)\",\n",
        "                     xaxis_rangeslider_visible = False)\n",
        "figure.show()"
      ],
      "metadata": {
        "colab": {
          "base_uri": "https://localhost:8080/",
          "height": 542
        },
        "id": "MGESf2-hKngx",
        "outputId": "4d46e88f-64a4-49a2-e383-745bca1de0cc"
      },
      "execution_count": 17,
      "outputs": [
        {
          "output_type": "display_data",
          "data": {
            "text/html": [
              "<html>\n",
              "<head><meta charset=\"utf-8\" /></head>\n",
              "<body>\n",
              "    <div>            <script src=\"https://cdnjs.cloudflare.com/ajax/libs/mathjax/2.7.5/MathJax.js?config=TeX-AMS-MML_SVG\"></script><script type=\"text/javascript\">if (window.MathJax && window.MathJax.Hub && window.MathJax.Hub.Config) {window.MathJax.Hub.Config({SVG: {font: \"STIX-Web\"}});}</script>                <script type=\"text/javascript\">window.PlotlyConfig = {MathJaxConfig: 'local'};</script>\n",
              "        <script charset=\"utf-8\" src=\"https://cdn.plot.ly/plotly-2.24.1.min.js\"></script>                <div id=\"0784b0e2-2114-4e96-a8c2-724b2e9fb52f\" class=\"plotly-graph-div\" style=\"height:525px; width:100%;\"></div>            <script type=\"text/javascript\">                                    window.PLOTLYENV=window.PLOTLYENV || {};                                    if (document.getElementById(\"0784b0e2-2114-4e96-a8c2-724b2e9fb52f\")) {                    Plotly.newPlot(                        \"0784b0e2-2114-4e96-a8c2-724b2e9fb52f\",                        [{\"close\":[177.25,180.08999633789062,180.9499969482422,179.5800018310547,179.2100067138672,177.82000732421875,180.57000732421875,180.9600067138672,183.7899932861328,183.30999755859375,183.9499969482422,186.00999450683594,184.9199981689453,185.00999450683594,183.9600067138672,187.0,186.67999267578125,185.27000427246094,188.05999755859375,189.25,189.58999633789062,193.97000122070312,192.4600067138672,191.3300018310547,191.80999755859375,190.67999267578125,188.61000061035156,188.0800018310547,189.77000427246094,190.5399932861328,190.69000244140625,193.99000549316406,193.72999572753906,195.10000610351562,193.1300048828125,191.94000244140625,192.75,193.6199951171875,194.5,193.22000122070312,195.8300018310547,196.4499969482422,195.61000061035156,192.5800018310547,191.1699981689453,181.99000549316406,178.85000610351562,179.8000030517578,178.19000244140625,177.97000122070312,177.7899932861328,179.4600067138672,177.4499969482422,176.57000732421875,174.0,174.49000549316406,175.83999633789062,177.22999572753906,181.1199951171875,176.3800048828125,178.61000061035156,180.19000244140625,184.1199951171875,187.64999389648438,187.8699951171875,189.4600067138672,189.6999969482422,182.91000366210938,177.55999755859375,178.17999267578125,179.36000061035156,176.3000030517578,174.2100067138672,175.74000549316406,175.00999450683594,177.97000122070312,179.07000732421875,175.49000549316406,173.92999267578125,174.7899932861328,176.0800018310547,171.9600067138672,170.42999267578125,170.69000244140625,171.2100067138672,173.75,172.39999389648438,173.66000366210938,174.91000366210938,177.49000549316406,178.99000549316406,178.38999938964844,179.8000030517578,180.7100067138672,178.85000610351562,178.72000122070312,177.14999389648438,175.83999633789062,175.4600067138672,172.8800048828125,173.0,173.44000244140625,171.10000610351562,166.88999938964844,168.22000122070312,170.2899932861328,170.77000427246094,173.97000122070312,177.57000732421875,176.64999389648438,179.22999572753906,181.82000732421875,182.88999938964844,182.41000366210938,186.39999389648438,184.8000030517578,187.44000244140625,188.00999450683594,189.7100067138672,189.69000244140625,191.4499969482422,190.63999938964844,191.30999755859375,189.97000122070312,189.7899932861328,190.39999389648438,189.3699951171875,189.9499969482422,191.24000549316406,189.42999267578125,193.4199981689453,192.32000732421875,194.27000427246094,195.7100067138672,193.17999267578125,194.7100067138672,197.9600067138672,198.11000061035156,197.57000732421875,195.88999938964844,196.94000244140625,194.8300018310547,194.67999267578125,193.60000610351562,193.0500030517578,193.14999389648438,193.5800018310547,192.52999877929688,185.63999938964844,184.25,181.91000366210938,181.17999267578125,185.55999755859375,185.13999938964844,186.19000244140625,185.58999633789062,185.9199981689453,183.6300048828125,182.67999267578125,188.6300048828125,191.55999755859375,193.88999938964844,195.17999267578125,194.5,194.1699981689453,192.4199981689453,191.72999572753906,188.0399932861328,184.39999389648438,186.86000061035156,185.85000610351562,187.67999267578125,189.3000030517578,189.41000366210938,188.32000732421875,188.85000610351562,187.14999389648438,185.0399932861328,184.14999389648438,183.86000061035156,182.30999755859375,181.55999755859375,182.32000732421875,184.3699951171875,182.52000427246094,181.16000366210938,182.6300048828125,181.4199981689453,180.75,179.66000366210938,175.10000610351562,170.1199951171875,169.1199951171875,169.0,170.72999572753906,172.75,173.22999572753906,171.1300048828125,173.0,172.6199951171875,173.72000122070312,176.0800018310547,178.6699981689453,171.3699951171875,172.27999877929688,170.85000610351562,169.7100067138672,173.30999755859375,171.47999572753906,170.02999877929688,168.83999633789062,169.64999389648438,168.82000732421875,169.5800018310547,168.4499969482422,169.6699981689453,167.77999877929688,175.0399932861328,176.5500030517578,172.69000244140625,169.3800048828125,168.0,167.0399932861328,165.0,165.83999633789062,166.89999389648438,169.02000427246094,169.88999938964844,169.3000030517578,173.5,170.3300018310547,169.3000030517578,173.02999877929688,183.3800048828125,181.7100067138672,182.39999389648438,182.74000549316406,184.57000732421875,183.0500030517578,186.27999877929688,187.42999267578125,189.72000122070312,189.83999633789062,189.8699951171875,191.0399932861328,192.35000610351562,190.89999389648438,186.8800048828125,189.97999572753906,189.99000549316406,190.2899932861328],\"high\":[179.35000610351562,180.1199951171875,181.77999877929688,184.9499969482422,180.1199951171875,181.2100067138672,180.83999633789062,182.22999572753906,183.88999938964844,184.14999389648438,184.38999938964844,186.52000427246094,186.99000549316406,186.10000610351562,185.41000366210938,187.0500030517578,187.55999755859375,188.0500030517578,188.38999938964844,189.89999389648438,190.07000732421875,194.47999572753906,193.8800048828125,192.97999572753906,192.02000427246094,192.6699981689453,189.99000549316406,189.3000030517578,191.6999969482422,191.19000244140625,191.17999267578125,194.32000732421875,194.3300018310547,198.22999572753906,196.47000122070312,194.97000122070312,194.91000366210938,194.44000244140625,195.63999938964844,197.1999969482422,196.6300048828125,196.49000549316406,196.72999572753906,195.17999267578125,192.3699951171875,187.3800048828125,183.1300048828125,180.27000427246094,180.92999267578125,180.75,178.6199951171875,179.69000244140625,179.47999572753906,178.5399932861328,177.50999450683594,175.10000610351562,176.1300048828125,177.67999267578125,181.5500030517578,181.10000610351562,179.14999389648438,180.58999633789062,184.89999389648438,187.85000610351562,189.1199951171875,189.9199981689453,189.97999572753906,188.85000610351562,178.2100067138672,180.24000549316406,180.3000030517578,180.1300048828125,177.3000030517578,176.10000610351562,176.5,179.3800048828125,179.6300048828125,179.6999969482422,176.3000030517578,177.0800018310547,176.97000122070312,175.1999969482422,173.0399932861328,172.02999877929688,173.07000732421875,174.3000030517578,173.6300048828125,174.2100067138672,175.4499969482422,177.99000549316406,179.0500030517578,179.72000122070312,179.85000610351562,182.33999633789062,181.92999267578125,179.0800018310547,178.4199981689453,177.5800018310547,177.83999633789062,175.4199981689453,174.00999450683594,173.6699981689453,173.05999755859375,171.3800048828125,168.9600067138672,171.1699981689453,170.89999389648438,174.22999572753906,177.77999877929688,176.82000732421875,179.42999267578125,182.44000244140625,183.4499969482422,184.1199951171875,186.57000732421875,186.02999877929688,188.11000061035156,189.5,190.9600067138672,190.3800048828125,191.91000366210938,191.52000427246094,192.92999267578125,190.89999389648438,190.6699981689453,191.0800018310547,192.08999633789062,190.32000732421875,191.55999755859375,190.0500030517578,194.39999389648438,194.75999450683594,195.0,195.99000549316406,193.49000549316406,194.72000122070312,198.0,199.6199951171875,198.39999389648438,196.6300048828125,196.9499969482422,197.67999267578125,197.0800018310547,195.41000366210938,193.88999938964844,193.5,194.66000366210938,194.39999389648438,188.44000244140625,185.8800048828125,183.08999633789062,182.75999450683594,185.60000610351562,185.14999389648438,186.39999389648438,187.0500030517578,186.74000549316406,184.25999450683594,182.92999267578125,189.13999938964844,191.9499969482422,195.3300018310547,195.75,196.3800048828125,196.27000427246094,194.75999450683594,192.1999969482422,191.8000030517578,187.10000610351562,186.9499969482422,187.3300018310547,189.25,189.30999755859375,191.0500030517578,189.5399932861328,189.99000549316406,188.6699981689453,186.2100067138672,185.52999877929688,184.49000549316406,184.85000610351562,182.42999267578125,182.88999938964844,184.9600067138672,185.0399932861328,182.75999450683594,183.9199981689453,183.1199951171875,182.57000732421875,180.52999877929688,176.89999389648438,172.0399932861328,171.24000549316406,170.72999572753906,173.6999969482422,174.3800048828125,174.02999877929688,173.19000244140625,174.30999755859375,172.6199951171875,177.7100067138672,176.61000061035156,178.6699981689453,177.49000549316406,173.0500030517578,171.94000244140625,171.4199981689453,173.60000610351562,172.22999572753906,171.25,169.33999633789062,170.67999267578125,171.9199981689453,170.38999938964844,169.1999969482422,170.0800018310547,169.08999633789062,175.4600067138672,178.36000061035156,176.6300048828125,173.75999450683594,170.64999389648438,168.63999938964844,166.39999389648438,167.25999450683594,167.0500030517578,169.3000030517578,170.61000061035156,171.33999633789062,176.02999877929688,174.99000549316406,172.7100067138672,173.4199981689453,187.0,184.1999969482422,184.89999389648438,183.07000732421875,184.66000366210938,185.08999633789062,187.10000610351562,188.3000030517578,190.64999389648438,191.10000610351562,190.80999755859375,191.9199981689453,192.72999572753906,192.82000732421875,191.0,190.5800018310547,193.0,192.25],\"low\":[176.75999450683594,176.92999267578125,179.25999450683594,178.0399932861328,177.42999267578125,177.32000732421875,177.4600067138672,180.6300048828125,180.97000122070312,182.44000244140625,182.02000427246094,183.77999877929688,184.27000427246094,184.41000366210938,182.58999633789062,183.6699981689453,185.00999450683594,185.22999572753906,185.6699981689453,187.60000610351562,188.94000244140625,191.25999450683594,191.75999450683594,190.6199951171875,189.1999969482422,190.24000549316406,187.0399932861328,186.60000610351562,188.47000122070312,189.77999877929688,189.6300048828125,191.80999755859375,192.4199981689453,192.64999389648438,192.5,191.22999572753906,192.25,192.9199981689453,193.32000732421875,192.5500030517578,194.13999938964844,195.25999450683594,195.27999877929688,191.85000610351562,190.69000244140625,181.9199981689453,177.35000610351562,177.5800018310547,177.00999450683594,177.60000610351562,176.5500030517578,177.30999755859375,177.0500030517578,176.5,173.47999572753906,171.9600067138672,173.74000549316406,176.25,178.3300018310547,176.00999450683594,175.82000732421875,178.5500030517578,179.5,184.74000549316406,187.47999572753906,188.27999877929688,187.61000061035156,181.47000122070312,173.5399932861328,177.7899932861328,177.33999633789062,174.82000732421875,173.97999572753906,173.5800018310547,173.82000732421875,176.1699981689453,177.1300048828125,175.39999389648438,173.86000061035156,174.0500030517578,174.14999389648438,171.66000366210938,169.0500030517578,167.6199951171875,170.33999633789062,170.92999267578125,170.82000732421875,170.97000122070312,172.67999267578125,173.17999267578125,175.8000030517578,177.9499969482422,177.60000610351562,179.0399932861328,178.13999938964844,176.50999450683594,174.8000030517578,175.11000061035156,175.19000244140625,172.63999938964844,169.92999267578125,171.4499969482422,170.64999389648438,165.6699981689453,166.8300018310547,168.8699951171875,167.89999389648438,170.1199951171875,175.4600067138672,173.35000610351562,176.2100067138672,178.97000122070312,181.58999633789062,181.80999755859375,183.52999877929688,184.2100067138672,186.3000030517578,187.77999877929688,188.64999389648438,188.57000732421875,189.8800048828125,189.74000549316406,190.8300018310547,189.25,188.89999389648438,189.39999389648438,188.97000122070312,188.19000244140625,189.22999572753906,187.4499969482422,190.17999267578125,192.11000061035156,193.58999633789062,193.6699981689453,191.4199981689453,191.72000122070312,194.85000610351562,196.16000366210938,197.0,194.38999938964844,195.88999938964844,194.8300018310547,193.5,192.97000122070312,192.8300018310547,191.08999633789062,193.1699981689453,191.72999572753906,183.88999938964844,183.42999267578125,180.8800048828125,180.1699981689453,181.5,182.72999572753906,183.9199981689453,183.6199951171875,185.19000244140625,180.92999267578125,180.3000030517578,185.8300018310547,188.82000732421875,192.25999450683594,193.8300018310547,194.33999633789062,193.11000061035156,191.94000244140625,189.5800018310547,187.47000122070312,184.35000610351562,183.82000732421875,179.25,185.83999633789062,186.77000427246094,188.61000061035156,187.35000610351562,188.0,186.7899932861328,183.50999450683594,182.44000244140625,181.35000610351562,181.6699981689453,180.0,180.66000366210938,182.4600067138672,182.22999572753906,180.64999389648438,179.55999755859375,180.1300048828125,179.52999877929688,177.3800048828125,173.7899932861328,169.6199951171875,168.67999267578125,168.49000549316406,168.94000244140625,172.0500030517578,171.00999450683594,170.75999450683594,172.0500030517578,170.2899932861328,173.52000427246094,173.02999877929688,175.08999633789062,170.83999633789062,170.05999755859375,169.4499969482422,169.5800018310547,170.11000061035156,170.50999450683594,169.47999572753906,168.22999572753906,168.5800018310547,168.82000732421875,168.9499969482422,168.24000549316406,168.35000610351562,167.11000061035156,168.16000366210938,174.2100067138672,172.5,168.27000427246094,168.0,166.5500030517578,164.0800018310547,164.77000427246094,164.9199981689453,166.2100067138672,168.14999389648438,169.17999267578125,173.10000610351562,170.0,169.11000061035156,170.88999938964844,182.66000366210938,180.4199981689453,181.32000732421875,181.4499969482422,182.11000061035156,182.1300048828125,184.6199951171875,186.2899932861328,187.3699951171875,189.66000366210938,189.17999267578125,189.00999450683594,190.9199981689453,190.27000427246094,186.6300048828125,188.0399932861328,189.10000610351562,189.50999450683594],\"open\":[177.3300018310547,177.6999969482422,181.02999877929688,182.6300048828125,179.97000122070312,178.44000244140625,177.89999389648438,181.5,181.27000427246094,182.8000030517578,183.3699951171875,183.9600067138672,186.72999572753906,184.41000366210938,184.89999389648438,183.74000549316406,185.5500030517578,186.8300018310547,185.88999938964844,187.92999267578125,189.0800018310547,191.6300048828125,193.77999877929688,191.57000732421875,189.83999633789062,191.41000366210938,189.25999450683594,189.16000366210938,189.67999267578125,190.5,190.22999572753906,191.89999389648438,193.35000610351562,193.10000610351562,195.08999633789062,194.10000610351562,193.41000366210938,193.3300018310547,193.6699981689453,196.02000427246094,194.6699981689453,196.05999755859375,196.24000549316406,195.0399932861328,191.57000732421875,185.52000427246094,182.1300048828125,179.69000244140625,180.8699951171875,179.47999572753906,177.32000732421875,177.97000122070312,178.8800048828125,177.1300048828125,177.13999938964844,172.3000030517578,175.07000732421875,177.05999755859375,178.52000427246094,180.6699981689453,177.3800048828125,180.08999633789062,179.6999969482422,184.94000244140625,187.83999633789062,189.49000549316406,188.27999877929688,188.39999389648438,175.17999267578125,178.35000610351562,180.07000732421875,179.49000549316406,176.50999450683594,174.0,176.47999572753906,176.47999572753906,177.52000427246094,179.25999450683594,174.5500030517578,174.6699981689453,174.1999969482422,174.82000732421875,172.6199951171875,169.33999633789062,172.02000427246094,171.22000122070312,172.25999450683594,171.08999633789062,173.7899932861328,173.8000030517578,176.80999755859375,178.10000610351562,178.1999969482422,180.07000732421875,181.4199981689453,176.75,176.64999389648438,175.5800018310547,176.0399932861328,175.30999755859375,170.91000366210938,173.0500030517578,171.8800048828125,170.3699951171875,166.91000366210938,169.02000427246094,169.35000610351562,171.0,175.52000427246094,174.24000549316406,176.3800048828125,179.17999267578125,182.35000610351562,182.9600067138672,183.97000122070312,185.82000732421875,187.6999969482422,187.85000610351562,189.57000732421875,190.25,189.88999938964844,191.41000366210938,191.49000549316406,190.8699951171875,189.9199981689453,189.77999877929688,190.89999389648438,189.83999633789062,190.3300018310547,189.97999572753906,190.2100067138672,194.4499969482422,193.6300048828125,194.1999969482422,193.11000061035156,193.0800018310547,195.08999633789062,198.02000427246094,197.52999877929688,196.08999633789062,196.16000366210938,196.89999389648438,196.10000610351562,195.17999267578125,193.61000061035156,192.49000549316406,194.13999938964844,193.89999389648438,187.14999389648438,184.22000122070312,182.14999389648438,181.99000549316406,182.08999633789062,183.9199981689453,184.35000610351562,186.5399932861328,186.05999755859375,182.16000366210938,181.27000427246094,186.08999633789062,189.3300018310547,192.3000030517578,195.02000427246094,195.4199981689453,195.22000122070312,194.27000427246094,192.00999450683594,190.94000244140625,187.0399932861328,183.99000549316406,179.86000061035156,188.14999389648438,186.86000061035156,190.63999938964844,189.38999938964844,188.64999389648438,188.4199981689453,185.77000427246094,185.32000732421875,183.5500030517578,183.4199981689453,181.7899932861328,181.94000244140625,183.47999572753906,185.00999450683594,182.24000549316406,181.10000610351562,182.50999450683594,181.27000427246094,179.5500030517578,176.14999389648438,170.75999450683594,171.05999755859375,169.14999389648438,169.0,172.94000244140625,173.14999389648438,172.77000427246094,172.91000366210938,171.1699981689453,175.57000732421875,174.33999633789062,175.72000122070312,177.0500030517578,171.75999450683594,170.57000732421875,170.0,170.41000366210938,171.75,171.19000244140625,169.0800018310547,168.7899932861328,170.2899932861328,169.58999633789062,169.02999877929688,168.6999969482422,168.8000030517578,168.33999633789062,174.25999450683594,175.36000061035156,171.75,169.61000061035156,168.02999877929688,166.2100067138672,165.52000427246094,165.35000610351562,166.5399932861328,169.52999877929688,169.8800048828125,173.3699951171875,173.3300018310547,169.5800018310547,172.50999450683594,186.64999389648438,182.35000610351562,183.4499969482422,182.85000610351562,182.55999755859375,184.89999389648438,185.44000244140625,187.50999450683594,187.91000366210938,190.47000122070312,189.50999450683594,189.3300018310547,191.08999633789062,192.27000427246094,190.97999572753906,188.82000732421875,191.50999450683594,189.61000061035156],\"x\":[\"2023-05-31T00:00:00\",\"2023-06-01T00:00:00\",\"2023-06-02T00:00:00\",\"2023-06-05T00:00:00\",\"2023-06-06T00:00:00\",\"2023-06-07T00:00:00\",\"2023-06-08T00:00:00\",\"2023-06-09T00:00:00\",\"2023-06-12T00:00:00\",\"2023-06-13T00:00:00\",\"2023-06-14T00:00:00\",\"2023-06-15T00:00:00\",\"2023-06-16T00:00:00\",\"2023-06-20T00:00:00\",\"2023-06-21T00:00:00\",\"2023-06-22T00:00:00\",\"2023-06-23T00:00:00\",\"2023-06-26T00:00:00\",\"2023-06-27T00:00:00\",\"2023-06-28T00:00:00\",\"2023-06-29T00:00:00\",\"2023-06-30T00:00:00\",\"2023-07-03T00:00:00\",\"2023-07-05T00:00:00\",\"2023-07-06T00:00:00\",\"2023-07-07T00:00:00\",\"2023-07-10T00:00:00\",\"2023-07-11T00:00:00\",\"2023-07-12T00:00:00\",\"2023-07-13T00:00:00\",\"2023-07-14T00:00:00\",\"2023-07-17T00:00:00\",\"2023-07-18T00:00:00\",\"2023-07-19T00:00:00\",\"2023-07-20T00:00:00\",\"2023-07-21T00:00:00\",\"2023-07-24T00:00:00\",\"2023-07-25T00:00:00\",\"2023-07-26T00:00:00\",\"2023-07-27T00:00:00\",\"2023-07-28T00:00:00\",\"2023-07-31T00:00:00\",\"2023-08-01T00:00:00\",\"2023-08-02T00:00:00\",\"2023-08-03T00:00:00\",\"2023-08-04T00:00:00\",\"2023-08-07T00:00:00\",\"2023-08-08T00:00:00\",\"2023-08-09T00:00:00\",\"2023-08-10T00:00:00\",\"2023-08-11T00:00:00\",\"2023-08-14T00:00:00\",\"2023-08-15T00:00:00\",\"2023-08-16T00:00:00\",\"2023-08-17T00:00:00\",\"2023-08-18T00:00:00\",\"2023-08-21T00:00:00\",\"2023-08-22T00:00:00\",\"2023-08-23T00:00:00\",\"2023-08-24T00:00:00\",\"2023-08-25T00:00:00\",\"2023-08-28T00:00:00\",\"2023-08-29T00:00:00\",\"2023-08-30T00:00:00\",\"2023-08-31T00:00:00\",\"2023-09-01T00:00:00\",\"2023-09-05T00:00:00\",\"2023-09-06T00:00:00\",\"2023-09-07T00:00:00\",\"2023-09-08T00:00:00\",\"2023-09-11T00:00:00\",\"2023-09-12T00:00:00\",\"2023-09-13T00:00:00\",\"2023-09-14T00:00:00\",\"2023-09-15T00:00:00\",\"2023-09-18T00:00:00\",\"2023-09-19T00:00:00\",\"2023-09-20T00:00:00\",\"2023-09-21T00:00:00\",\"2023-09-22T00:00:00\",\"2023-09-25T00:00:00\",\"2023-09-26T00:00:00\",\"2023-09-27T00:00:00\",\"2023-09-28T00:00:00\",\"2023-09-29T00:00:00\",\"2023-10-02T00:00:00\",\"2023-10-03T00:00:00\",\"2023-10-04T00:00:00\",\"2023-10-05T00:00:00\",\"2023-10-06T00:00:00\",\"2023-10-09T00:00:00\",\"2023-10-10T00:00:00\",\"2023-10-11T00:00:00\",\"2023-10-12T00:00:00\",\"2023-10-13T00:00:00\",\"2023-10-16T00:00:00\",\"2023-10-17T00:00:00\",\"2023-10-18T00:00:00\",\"2023-10-19T00:00:00\",\"2023-10-20T00:00:00\",\"2023-10-23T00:00:00\",\"2023-10-24T00:00:00\",\"2023-10-25T00:00:00\",\"2023-10-26T00:00:00\",\"2023-10-27T00:00:00\",\"2023-10-30T00:00:00\",\"2023-10-31T00:00:00\",\"2023-11-01T00:00:00\",\"2023-11-02T00:00:00\",\"2023-11-03T00:00:00\",\"2023-11-06T00:00:00\",\"2023-11-07T00:00:00\",\"2023-11-08T00:00:00\",\"2023-11-09T00:00:00\",\"2023-11-10T00:00:00\",\"2023-11-13T00:00:00\",\"2023-11-14T00:00:00\",\"2023-11-15T00:00:00\",\"2023-11-16T00:00:00\",\"2023-11-17T00:00:00\",\"2023-11-20T00:00:00\",\"2023-11-21T00:00:00\",\"2023-11-22T00:00:00\",\"2023-11-24T00:00:00\",\"2023-11-27T00:00:00\",\"2023-11-28T00:00:00\",\"2023-11-29T00:00:00\",\"2023-11-30T00:00:00\",\"2023-12-01T00:00:00\",\"2023-12-04T00:00:00\",\"2023-12-05T00:00:00\",\"2023-12-06T00:00:00\",\"2023-12-07T00:00:00\",\"2023-12-08T00:00:00\",\"2023-12-11T00:00:00\",\"2023-12-12T00:00:00\",\"2023-12-13T00:00:00\",\"2023-12-14T00:00:00\",\"2023-12-15T00:00:00\",\"2023-12-18T00:00:00\",\"2023-12-19T00:00:00\",\"2023-12-20T00:00:00\",\"2023-12-21T00:00:00\",\"2023-12-22T00:00:00\",\"2023-12-26T00:00:00\",\"2023-12-27T00:00:00\",\"2023-12-28T00:00:00\",\"2023-12-29T00:00:00\",\"2024-01-02T00:00:00\",\"2024-01-03T00:00:00\",\"2024-01-04T00:00:00\",\"2024-01-05T00:00:00\",\"2024-01-08T00:00:00\",\"2024-01-09T00:00:00\",\"2024-01-10T00:00:00\",\"2024-01-11T00:00:00\",\"2024-01-12T00:00:00\",\"2024-01-16T00:00:00\",\"2024-01-17T00:00:00\",\"2024-01-18T00:00:00\",\"2024-01-19T00:00:00\",\"2024-01-22T00:00:00\",\"2024-01-23T00:00:00\",\"2024-01-24T00:00:00\",\"2024-01-25T00:00:00\",\"2024-01-26T00:00:00\",\"2024-01-29T00:00:00\",\"2024-01-30T00:00:00\",\"2024-01-31T00:00:00\",\"2024-02-01T00:00:00\",\"2024-02-02T00:00:00\",\"2024-02-05T00:00:00\",\"2024-02-06T00:00:00\",\"2024-02-07T00:00:00\",\"2024-02-08T00:00:00\",\"2024-02-09T00:00:00\",\"2024-02-12T00:00:00\",\"2024-02-13T00:00:00\",\"2024-02-14T00:00:00\",\"2024-02-15T00:00:00\",\"2024-02-16T00:00:00\",\"2024-02-20T00:00:00\",\"2024-02-21T00:00:00\",\"2024-02-22T00:00:00\",\"2024-02-23T00:00:00\",\"2024-02-26T00:00:00\",\"2024-02-27T00:00:00\",\"2024-02-28T00:00:00\",\"2024-02-29T00:00:00\",\"2024-03-01T00:00:00\",\"2024-03-04T00:00:00\",\"2024-03-05T00:00:00\",\"2024-03-06T00:00:00\",\"2024-03-07T00:00:00\",\"2024-03-08T00:00:00\",\"2024-03-11T00:00:00\",\"2024-03-12T00:00:00\",\"2024-03-13T00:00:00\",\"2024-03-14T00:00:00\",\"2024-03-15T00:00:00\",\"2024-03-18T00:00:00\",\"2024-03-19T00:00:00\",\"2024-03-20T00:00:00\",\"2024-03-21T00:00:00\",\"2024-03-22T00:00:00\",\"2024-03-25T00:00:00\",\"2024-03-26T00:00:00\",\"2024-03-27T00:00:00\",\"2024-03-28T00:00:00\",\"2024-04-01T00:00:00\",\"2024-04-02T00:00:00\",\"2024-04-03T00:00:00\",\"2024-04-04T00:00:00\",\"2024-04-05T00:00:00\",\"2024-04-08T00:00:00\",\"2024-04-09T00:00:00\",\"2024-04-10T00:00:00\",\"2024-04-11T00:00:00\",\"2024-04-12T00:00:00\",\"2024-04-15T00:00:00\",\"2024-04-16T00:00:00\",\"2024-04-17T00:00:00\",\"2024-04-18T00:00:00\",\"2024-04-19T00:00:00\",\"2024-04-22T00:00:00\",\"2024-04-23T00:00:00\",\"2024-04-24T00:00:00\",\"2024-04-25T00:00:00\",\"2024-04-26T00:00:00\",\"2024-04-29T00:00:00\",\"2024-04-30T00:00:00\",\"2024-05-01T00:00:00\",\"2024-05-02T00:00:00\",\"2024-05-03T00:00:00\",\"2024-05-06T00:00:00\",\"2024-05-07T00:00:00\",\"2024-05-08T00:00:00\",\"2024-05-09T00:00:00\",\"2024-05-10T00:00:00\",\"2024-05-13T00:00:00\",\"2024-05-14T00:00:00\",\"2024-05-15T00:00:00\",\"2024-05-16T00:00:00\",\"2024-05-17T00:00:00\",\"2024-05-20T00:00:00\",\"2024-05-21T00:00:00\",\"2024-05-22T00:00:00\",\"2024-05-23T00:00:00\",\"2024-05-24T00:00:00\",\"2024-05-28T00:00:00\",\"2024-05-29T00:00:00\"],\"type\":\"candlestick\"}],                        {\"template\":{\"data\":{\"histogram2dcontour\":[{\"type\":\"histogram2dcontour\",\"colorbar\":{\"outlinewidth\":0,\"ticks\":\"\"},\"colorscale\":[[0.0,\"#0d0887\"],[0.1111111111111111,\"#46039f\"],[0.2222222222222222,\"#7201a8\"],[0.3333333333333333,\"#9c179e\"],[0.4444444444444444,\"#bd3786\"],[0.5555555555555556,\"#d8576b\"],[0.6666666666666666,\"#ed7953\"],[0.7777777777777778,\"#fb9f3a\"],[0.8888888888888888,\"#fdca26\"],[1.0,\"#f0f921\"]]}],\"choropleth\":[{\"type\":\"choropleth\",\"colorbar\":{\"outlinewidth\":0,\"ticks\":\"\"}}],\"histogram2d\":[{\"type\":\"histogram2d\",\"colorbar\":{\"outlinewidth\":0,\"ticks\":\"\"},\"colorscale\":[[0.0,\"#0d0887\"],[0.1111111111111111,\"#46039f\"],[0.2222222222222222,\"#7201a8\"],[0.3333333333333333,\"#9c179e\"],[0.4444444444444444,\"#bd3786\"],[0.5555555555555556,\"#d8576b\"],[0.6666666666666666,\"#ed7953\"],[0.7777777777777778,\"#fb9f3a\"],[0.8888888888888888,\"#fdca26\"],[1.0,\"#f0f921\"]]}],\"heatmap\":[{\"type\":\"heatmap\",\"colorbar\":{\"outlinewidth\":0,\"ticks\":\"\"},\"colorscale\":[[0.0,\"#0d0887\"],[0.1111111111111111,\"#46039f\"],[0.2222222222222222,\"#7201a8\"],[0.3333333333333333,\"#9c179e\"],[0.4444444444444444,\"#bd3786\"],[0.5555555555555556,\"#d8576b\"],[0.6666666666666666,\"#ed7953\"],[0.7777777777777778,\"#fb9f3a\"],[0.8888888888888888,\"#fdca26\"],[1.0,\"#f0f921\"]]}],\"heatmapgl\":[{\"type\":\"heatmapgl\",\"colorbar\":{\"outlinewidth\":0,\"ticks\":\"\"},\"colorscale\":[[0.0,\"#0d0887\"],[0.1111111111111111,\"#46039f\"],[0.2222222222222222,\"#7201a8\"],[0.3333333333333333,\"#9c179e\"],[0.4444444444444444,\"#bd3786\"],[0.5555555555555556,\"#d8576b\"],[0.6666666666666666,\"#ed7953\"],[0.7777777777777778,\"#fb9f3a\"],[0.8888888888888888,\"#fdca26\"],[1.0,\"#f0f921\"]]}],\"contourcarpet\":[{\"type\":\"contourcarpet\",\"colorbar\":{\"outlinewidth\":0,\"ticks\":\"\"}}],\"contour\":[{\"type\":\"contour\",\"colorbar\":{\"outlinewidth\":0,\"ticks\":\"\"},\"colorscale\":[[0.0,\"#0d0887\"],[0.1111111111111111,\"#46039f\"],[0.2222222222222222,\"#7201a8\"],[0.3333333333333333,\"#9c179e\"],[0.4444444444444444,\"#bd3786\"],[0.5555555555555556,\"#d8576b\"],[0.6666666666666666,\"#ed7953\"],[0.7777777777777778,\"#fb9f3a\"],[0.8888888888888888,\"#fdca26\"],[1.0,\"#f0f921\"]]}],\"surface\":[{\"type\":\"surface\",\"colorbar\":{\"outlinewidth\":0,\"ticks\":\"\"},\"colorscale\":[[0.0,\"#0d0887\"],[0.1111111111111111,\"#46039f\"],[0.2222222222222222,\"#7201a8\"],[0.3333333333333333,\"#9c179e\"],[0.4444444444444444,\"#bd3786\"],[0.5555555555555556,\"#d8576b\"],[0.6666666666666666,\"#ed7953\"],[0.7777777777777778,\"#fb9f3a\"],[0.8888888888888888,\"#fdca26\"],[1.0,\"#f0f921\"]]}],\"mesh3d\":[{\"type\":\"mesh3d\",\"colorbar\":{\"outlinewidth\":0,\"ticks\":\"\"}}],\"scatter\":[{\"fillpattern\":{\"fillmode\":\"overlay\",\"size\":10,\"solidity\":0.2},\"type\":\"scatter\"}],\"parcoords\":[{\"type\":\"parcoords\",\"line\":{\"colorbar\":{\"outlinewidth\":0,\"ticks\":\"\"}}}],\"scatterpolargl\":[{\"type\":\"scatterpolargl\",\"marker\":{\"colorbar\":{\"outlinewidth\":0,\"ticks\":\"\"}}}],\"bar\":[{\"error_x\":{\"color\":\"#2a3f5f\"},\"error_y\":{\"color\":\"#2a3f5f\"},\"marker\":{\"line\":{\"color\":\"#E5ECF6\",\"width\":0.5},\"pattern\":{\"fillmode\":\"overlay\",\"size\":10,\"solidity\":0.2}},\"type\":\"bar\"}],\"scattergeo\":[{\"type\":\"scattergeo\",\"marker\":{\"colorbar\":{\"outlinewidth\":0,\"ticks\":\"\"}}}],\"scatterpolar\":[{\"type\":\"scatterpolar\",\"marker\":{\"colorbar\":{\"outlinewidth\":0,\"ticks\":\"\"}}}],\"histogram\":[{\"marker\":{\"pattern\":{\"fillmode\":\"overlay\",\"size\":10,\"solidity\":0.2}},\"type\":\"histogram\"}],\"scattergl\":[{\"type\":\"scattergl\",\"marker\":{\"colorbar\":{\"outlinewidth\":0,\"ticks\":\"\"}}}],\"scatter3d\":[{\"type\":\"scatter3d\",\"line\":{\"colorbar\":{\"outlinewidth\":0,\"ticks\":\"\"}},\"marker\":{\"colorbar\":{\"outlinewidth\":0,\"ticks\":\"\"}}}],\"scattermapbox\":[{\"type\":\"scattermapbox\",\"marker\":{\"colorbar\":{\"outlinewidth\":0,\"ticks\":\"\"}}}],\"scatterternary\":[{\"type\":\"scatterternary\",\"marker\":{\"colorbar\":{\"outlinewidth\":0,\"ticks\":\"\"}}}],\"scattercarpet\":[{\"type\":\"scattercarpet\",\"marker\":{\"colorbar\":{\"outlinewidth\":0,\"ticks\":\"\"}}}],\"carpet\":[{\"aaxis\":{\"endlinecolor\":\"#2a3f5f\",\"gridcolor\":\"white\",\"linecolor\":\"white\",\"minorgridcolor\":\"white\",\"startlinecolor\":\"#2a3f5f\"},\"baxis\":{\"endlinecolor\":\"#2a3f5f\",\"gridcolor\":\"white\",\"linecolor\":\"white\",\"minorgridcolor\":\"white\",\"startlinecolor\":\"#2a3f5f\"},\"type\":\"carpet\"}],\"table\":[{\"cells\":{\"fill\":{\"color\":\"#EBF0F8\"},\"line\":{\"color\":\"white\"}},\"header\":{\"fill\":{\"color\":\"#C8D4E3\"},\"line\":{\"color\":\"white\"}},\"type\":\"table\"}],\"barpolar\":[{\"marker\":{\"line\":{\"color\":\"#E5ECF6\",\"width\":0.5},\"pattern\":{\"fillmode\":\"overlay\",\"size\":10,\"solidity\":0.2}},\"type\":\"barpolar\"}],\"pie\":[{\"automargin\":true,\"type\":\"pie\"}]},\"layout\":{\"autotypenumbers\":\"strict\",\"colorway\":[\"#636efa\",\"#EF553B\",\"#00cc96\",\"#ab63fa\",\"#FFA15A\",\"#19d3f3\",\"#FF6692\",\"#B6E880\",\"#FF97FF\",\"#FECB52\"],\"font\":{\"color\":\"#2a3f5f\"},\"hovermode\":\"closest\",\"hoverlabel\":{\"align\":\"left\"},\"paper_bgcolor\":\"white\",\"plot_bgcolor\":\"#E5ECF6\",\"polar\":{\"bgcolor\":\"#E5ECF6\",\"angularaxis\":{\"gridcolor\":\"white\",\"linecolor\":\"white\",\"ticks\":\"\"},\"radialaxis\":{\"gridcolor\":\"white\",\"linecolor\":\"white\",\"ticks\":\"\"}},\"ternary\":{\"bgcolor\":\"#E5ECF6\",\"aaxis\":{\"gridcolor\":\"white\",\"linecolor\":\"white\",\"ticks\":\"\"},\"baxis\":{\"gridcolor\":\"white\",\"linecolor\":\"white\",\"ticks\":\"\"},\"caxis\":{\"gridcolor\":\"white\",\"linecolor\":\"white\",\"ticks\":\"\"}},\"coloraxis\":{\"colorbar\":{\"outlinewidth\":0,\"ticks\":\"\"}},\"colorscale\":{\"sequential\":[[0.0,\"#0d0887\"],[0.1111111111111111,\"#46039f\"],[0.2222222222222222,\"#7201a8\"],[0.3333333333333333,\"#9c179e\"],[0.4444444444444444,\"#bd3786\"],[0.5555555555555556,\"#d8576b\"],[0.6666666666666666,\"#ed7953\"],[0.7777777777777778,\"#fb9f3a\"],[0.8888888888888888,\"#fdca26\"],[1.0,\"#f0f921\"]],\"sequentialminus\":[[0.0,\"#0d0887\"],[0.1111111111111111,\"#46039f\"],[0.2222222222222222,\"#7201a8\"],[0.3333333333333333,\"#9c179e\"],[0.4444444444444444,\"#bd3786\"],[0.5555555555555556,\"#d8576b\"],[0.6666666666666666,\"#ed7953\"],[0.7777777777777778,\"#fb9f3a\"],[0.8888888888888888,\"#fdca26\"],[1.0,\"#f0f921\"]],\"diverging\":[[0,\"#8e0152\"],[0.1,\"#c51b7d\"],[0.2,\"#de77ae\"],[0.3,\"#f1b6da\"],[0.4,\"#fde0ef\"],[0.5,\"#f7f7f7\"],[0.6,\"#e6f5d0\"],[0.7,\"#b8e186\"],[0.8,\"#7fbc41\"],[0.9,\"#4d9221\"],[1,\"#276419\"]]},\"xaxis\":{\"gridcolor\":\"white\",\"linecolor\":\"white\",\"ticks\":\"\",\"title\":{\"standoff\":15},\"zerolinecolor\":\"white\",\"automargin\":true,\"zerolinewidth\":2},\"yaxis\":{\"gridcolor\":\"white\",\"linecolor\":\"white\",\"ticks\":\"\",\"title\":{\"standoff\":15},\"zerolinecolor\":\"white\",\"automargin\":true,\"zerolinewidth\":2},\"scene\":{\"xaxis\":{\"backgroundcolor\":\"#E5ECF6\",\"gridcolor\":\"white\",\"linecolor\":\"white\",\"showbackground\":true,\"ticks\":\"\",\"zerolinecolor\":\"white\",\"gridwidth\":2},\"yaxis\":{\"backgroundcolor\":\"#E5ECF6\",\"gridcolor\":\"white\",\"linecolor\":\"white\",\"showbackground\":true,\"ticks\":\"\",\"zerolinecolor\":\"white\",\"gridwidth\":2},\"zaxis\":{\"backgroundcolor\":\"#E5ECF6\",\"gridcolor\":\"white\",\"linecolor\":\"white\",\"showbackground\":true,\"ticks\":\"\",\"zerolinecolor\":\"white\",\"gridwidth\":2}},\"shapedefaults\":{\"line\":{\"color\":\"#2a3f5f\"}},\"annotationdefaults\":{\"arrowcolor\":\"#2a3f5f\",\"arrowhead\":0,\"arrowwidth\":1},\"geo\":{\"bgcolor\":\"white\",\"landcolor\":\"#E5ECF6\",\"subunitcolor\":\"white\",\"showland\":true,\"showlakes\":true,\"lakecolor\":\"white\"},\"title\":{\"x\":0.05},\"mapbox\":{\"style\":\"light\"}}},\"xaxis\":{\"rangeslider\":{\"visible\":false}},\"title\":{\"text\":\"Time Series Analysis (Candlestick Chart)\"}},                        {\"responsive\": true}                    ).then(function(){\n",
              "                            \n",
              "var gd = document.getElementById('0784b0e2-2114-4e96-a8c2-724b2e9fb52f');\n",
              "var x = new MutationObserver(function (mutations, observer) {{\n",
              "        var display = window.getComputedStyle(gd).display;\n",
              "        if (!display || display === 'none') {{\n",
              "            console.log([gd, 'removed!']);\n",
              "            Plotly.purge(gd);\n",
              "            observer.disconnect();\n",
              "        }}\n",
              "}});\n",
              "\n",
              "// Listen for the removal of the full notebook cells\n",
              "var notebookContainer = gd.closest('#notebook-container');\n",
              "if (notebookContainer) {{\n",
              "    x.observe(notebookContainer, {childList: true});\n",
              "}}\n",
              "\n",
              "// Listen for the clearing of the current output cell\n",
              "var outputEl = gd.closest('.output');\n",
              "if (outputEl) {{\n",
              "    x.observe(outputEl, {childList: true});\n",
              "}}\n",
              "\n",
              "                        })                };                            </script>        </div>\n",
              "</body>\n",
              "</html>"
            ]
          },
          "metadata": {}
        }
      ]
    },
    {
      "cell_type": "code",
      "source": [
        "#  Closing prices trend.\n",
        "fig=px.bar(data,x=data.index,y=\"Close\",title=\"Closing prices trend.\")\n",
        "fig.show()"
      ],
      "metadata": {
        "id": "jFAwmKNjLoBo",
        "colab": {
          "base_uri": "https://localhost:8080/",
          "height": 542
        },
        "outputId": "d6c1049e-b369-48d1-dfaf-647f1cba72ea"
      },
      "execution_count": 18,
      "outputs": [
        {
          "output_type": "display_data",
          "data": {
            "text/html": [
              "<html>\n",
              "<head><meta charset=\"utf-8\" /></head>\n",
              "<body>\n",
              "    <div>            <script src=\"https://cdnjs.cloudflare.com/ajax/libs/mathjax/2.7.5/MathJax.js?config=TeX-AMS-MML_SVG\"></script><script type=\"text/javascript\">if (window.MathJax && window.MathJax.Hub && window.MathJax.Hub.Config) {window.MathJax.Hub.Config({SVG: {font: \"STIX-Web\"}});}</script>                <script type=\"text/javascript\">window.PlotlyConfig = {MathJaxConfig: 'local'};</script>\n",
              "        <script charset=\"utf-8\" src=\"https://cdn.plot.ly/plotly-2.24.1.min.js\"></script>                <div id=\"97b0d45c-fd66-45d2-ae04-14df387d2bba\" class=\"plotly-graph-div\" style=\"height:525px; width:100%;\"></div>            <script type=\"text/javascript\">                                    window.PLOTLYENV=window.PLOTLYENV || {};                                    if (document.getElementById(\"97b0d45c-fd66-45d2-ae04-14df387d2bba\")) {                    Plotly.newPlot(                        \"97b0d45c-fd66-45d2-ae04-14df387d2bba\",                        [{\"alignmentgroup\":\"True\",\"hovertemplate\":\"Date=%{x}\\u003cbr\\u003eClose=%{y}\\u003cextra\\u003e\\u003c\\u002fextra\\u003e\",\"legendgroup\":\"\",\"marker\":{\"color\":\"#636efa\",\"pattern\":{\"shape\":\"\"}},\"name\":\"\",\"offsetgroup\":\"\",\"orientation\":\"v\",\"showlegend\":false,\"textposition\":\"auto\",\"x\":[\"2023-05-31T00:00:00\",\"2023-06-01T00:00:00\",\"2023-06-02T00:00:00\",\"2023-06-05T00:00:00\",\"2023-06-06T00:00:00\",\"2023-06-07T00:00:00\",\"2023-06-08T00:00:00\",\"2023-06-09T00:00:00\",\"2023-06-12T00:00:00\",\"2023-06-13T00:00:00\",\"2023-06-14T00:00:00\",\"2023-06-15T00:00:00\",\"2023-06-16T00:00:00\",\"2023-06-20T00:00:00\",\"2023-06-21T00:00:00\",\"2023-06-22T00:00:00\",\"2023-06-23T00:00:00\",\"2023-06-26T00:00:00\",\"2023-06-27T00:00:00\",\"2023-06-28T00:00:00\",\"2023-06-29T00:00:00\",\"2023-06-30T00:00:00\",\"2023-07-03T00:00:00\",\"2023-07-05T00:00:00\",\"2023-07-06T00:00:00\",\"2023-07-07T00:00:00\",\"2023-07-10T00:00:00\",\"2023-07-11T00:00:00\",\"2023-07-12T00:00:00\",\"2023-07-13T00:00:00\",\"2023-07-14T00:00:00\",\"2023-07-17T00:00:00\",\"2023-07-18T00:00:00\",\"2023-07-19T00:00:00\",\"2023-07-20T00:00:00\",\"2023-07-21T00:00:00\",\"2023-07-24T00:00:00\",\"2023-07-25T00:00:00\",\"2023-07-26T00:00:00\",\"2023-07-27T00:00:00\",\"2023-07-28T00:00:00\",\"2023-07-31T00:00:00\",\"2023-08-01T00:00:00\",\"2023-08-02T00:00:00\",\"2023-08-03T00:00:00\",\"2023-08-04T00:00:00\",\"2023-08-07T00:00:00\",\"2023-08-08T00:00:00\",\"2023-08-09T00:00:00\",\"2023-08-10T00:00:00\",\"2023-08-11T00:00:00\",\"2023-08-14T00:00:00\",\"2023-08-15T00:00:00\",\"2023-08-16T00:00:00\",\"2023-08-17T00:00:00\",\"2023-08-18T00:00:00\",\"2023-08-21T00:00:00\",\"2023-08-22T00:00:00\",\"2023-08-23T00:00:00\",\"2023-08-24T00:00:00\",\"2023-08-25T00:00:00\",\"2023-08-28T00:00:00\",\"2023-08-29T00:00:00\",\"2023-08-30T00:00:00\",\"2023-08-31T00:00:00\",\"2023-09-01T00:00:00\",\"2023-09-05T00:00:00\",\"2023-09-06T00:00:00\",\"2023-09-07T00:00:00\",\"2023-09-08T00:00:00\",\"2023-09-11T00:00:00\",\"2023-09-12T00:00:00\",\"2023-09-13T00:00:00\",\"2023-09-14T00:00:00\",\"2023-09-15T00:00:00\",\"2023-09-18T00:00:00\",\"2023-09-19T00:00:00\",\"2023-09-20T00:00:00\",\"2023-09-21T00:00:00\",\"2023-09-22T00:00:00\",\"2023-09-25T00:00:00\",\"2023-09-26T00:00:00\",\"2023-09-27T00:00:00\",\"2023-09-28T00:00:00\",\"2023-09-29T00:00:00\",\"2023-10-02T00:00:00\",\"2023-10-03T00:00:00\",\"2023-10-04T00:00:00\",\"2023-10-05T00:00:00\",\"2023-10-06T00:00:00\",\"2023-10-09T00:00:00\",\"2023-10-10T00:00:00\",\"2023-10-11T00:00:00\",\"2023-10-12T00:00:00\",\"2023-10-13T00:00:00\",\"2023-10-16T00:00:00\",\"2023-10-17T00:00:00\",\"2023-10-18T00:00:00\",\"2023-10-19T00:00:00\",\"2023-10-20T00:00:00\",\"2023-10-23T00:00:00\",\"2023-10-24T00:00:00\",\"2023-10-25T00:00:00\",\"2023-10-26T00:00:00\",\"2023-10-27T00:00:00\",\"2023-10-30T00:00:00\",\"2023-10-31T00:00:00\",\"2023-11-01T00:00:00\",\"2023-11-02T00:00:00\",\"2023-11-03T00:00:00\",\"2023-11-06T00:00:00\",\"2023-11-07T00:00:00\",\"2023-11-08T00:00:00\",\"2023-11-09T00:00:00\",\"2023-11-10T00:00:00\",\"2023-11-13T00:00:00\",\"2023-11-14T00:00:00\",\"2023-11-15T00:00:00\",\"2023-11-16T00:00:00\",\"2023-11-17T00:00:00\",\"2023-11-20T00:00:00\",\"2023-11-21T00:00:00\",\"2023-11-22T00:00:00\",\"2023-11-24T00:00:00\",\"2023-11-27T00:00:00\",\"2023-11-28T00:00:00\",\"2023-11-29T00:00:00\",\"2023-11-30T00:00:00\",\"2023-12-01T00:00:00\",\"2023-12-04T00:00:00\",\"2023-12-05T00:00:00\",\"2023-12-06T00:00:00\",\"2023-12-07T00:00:00\",\"2023-12-08T00:00:00\",\"2023-12-11T00:00:00\",\"2023-12-12T00:00:00\",\"2023-12-13T00:00:00\",\"2023-12-14T00:00:00\",\"2023-12-15T00:00:00\",\"2023-12-18T00:00:00\",\"2023-12-19T00:00:00\",\"2023-12-20T00:00:00\",\"2023-12-21T00:00:00\",\"2023-12-22T00:00:00\",\"2023-12-26T00:00:00\",\"2023-12-27T00:00:00\",\"2023-12-28T00:00:00\",\"2023-12-29T00:00:00\",\"2024-01-02T00:00:00\",\"2024-01-03T00:00:00\",\"2024-01-04T00:00:00\",\"2024-01-05T00:00:00\",\"2024-01-08T00:00:00\",\"2024-01-09T00:00:00\",\"2024-01-10T00:00:00\",\"2024-01-11T00:00:00\",\"2024-01-12T00:00:00\",\"2024-01-16T00:00:00\",\"2024-01-17T00:00:00\",\"2024-01-18T00:00:00\",\"2024-01-19T00:00:00\",\"2024-01-22T00:00:00\",\"2024-01-23T00:00:00\",\"2024-01-24T00:00:00\",\"2024-01-25T00:00:00\",\"2024-01-26T00:00:00\",\"2024-01-29T00:00:00\",\"2024-01-30T00:00:00\",\"2024-01-31T00:00:00\",\"2024-02-01T00:00:00\",\"2024-02-02T00:00:00\",\"2024-02-05T00:00:00\",\"2024-02-06T00:00:00\",\"2024-02-07T00:00:00\",\"2024-02-08T00:00:00\",\"2024-02-09T00:00:00\",\"2024-02-12T00:00:00\",\"2024-02-13T00:00:00\",\"2024-02-14T00:00:00\",\"2024-02-15T00:00:00\",\"2024-02-16T00:00:00\",\"2024-02-20T00:00:00\",\"2024-02-21T00:00:00\",\"2024-02-22T00:00:00\",\"2024-02-23T00:00:00\",\"2024-02-26T00:00:00\",\"2024-02-27T00:00:00\",\"2024-02-28T00:00:00\",\"2024-02-29T00:00:00\",\"2024-03-01T00:00:00\",\"2024-03-04T00:00:00\",\"2024-03-05T00:00:00\",\"2024-03-06T00:00:00\",\"2024-03-07T00:00:00\",\"2024-03-08T00:00:00\",\"2024-03-11T00:00:00\",\"2024-03-12T00:00:00\",\"2024-03-13T00:00:00\",\"2024-03-14T00:00:00\",\"2024-03-15T00:00:00\",\"2024-03-18T00:00:00\",\"2024-03-19T00:00:00\",\"2024-03-20T00:00:00\",\"2024-03-21T00:00:00\",\"2024-03-22T00:00:00\",\"2024-03-25T00:00:00\",\"2024-03-26T00:00:00\",\"2024-03-27T00:00:00\",\"2024-03-28T00:00:00\",\"2024-04-01T00:00:00\",\"2024-04-02T00:00:00\",\"2024-04-03T00:00:00\",\"2024-04-04T00:00:00\",\"2024-04-05T00:00:00\",\"2024-04-08T00:00:00\",\"2024-04-09T00:00:00\",\"2024-04-10T00:00:00\",\"2024-04-11T00:00:00\",\"2024-04-12T00:00:00\",\"2024-04-15T00:00:00\",\"2024-04-16T00:00:00\",\"2024-04-17T00:00:00\",\"2024-04-18T00:00:00\",\"2024-04-19T00:00:00\",\"2024-04-22T00:00:00\",\"2024-04-23T00:00:00\",\"2024-04-24T00:00:00\",\"2024-04-25T00:00:00\",\"2024-04-26T00:00:00\",\"2024-04-29T00:00:00\",\"2024-04-30T00:00:00\",\"2024-05-01T00:00:00\",\"2024-05-02T00:00:00\",\"2024-05-03T00:00:00\",\"2024-05-06T00:00:00\",\"2024-05-07T00:00:00\",\"2024-05-08T00:00:00\",\"2024-05-09T00:00:00\",\"2024-05-10T00:00:00\",\"2024-05-13T00:00:00\",\"2024-05-14T00:00:00\",\"2024-05-15T00:00:00\",\"2024-05-16T00:00:00\",\"2024-05-17T00:00:00\",\"2024-05-20T00:00:00\",\"2024-05-21T00:00:00\",\"2024-05-22T00:00:00\",\"2024-05-23T00:00:00\",\"2024-05-24T00:00:00\",\"2024-05-28T00:00:00\",\"2024-05-29T00:00:00\"],\"xaxis\":\"x\",\"y\":[177.25,180.08999633789062,180.9499969482422,179.5800018310547,179.2100067138672,177.82000732421875,180.57000732421875,180.9600067138672,183.7899932861328,183.30999755859375,183.9499969482422,186.00999450683594,184.9199981689453,185.00999450683594,183.9600067138672,187.0,186.67999267578125,185.27000427246094,188.05999755859375,189.25,189.58999633789062,193.97000122070312,192.4600067138672,191.3300018310547,191.80999755859375,190.67999267578125,188.61000061035156,188.0800018310547,189.77000427246094,190.5399932861328,190.69000244140625,193.99000549316406,193.72999572753906,195.10000610351562,193.1300048828125,191.94000244140625,192.75,193.6199951171875,194.5,193.22000122070312,195.8300018310547,196.4499969482422,195.61000061035156,192.5800018310547,191.1699981689453,181.99000549316406,178.85000610351562,179.8000030517578,178.19000244140625,177.97000122070312,177.7899932861328,179.4600067138672,177.4499969482422,176.57000732421875,174.0,174.49000549316406,175.83999633789062,177.22999572753906,181.1199951171875,176.3800048828125,178.61000061035156,180.19000244140625,184.1199951171875,187.64999389648438,187.8699951171875,189.4600067138672,189.6999969482422,182.91000366210938,177.55999755859375,178.17999267578125,179.36000061035156,176.3000030517578,174.2100067138672,175.74000549316406,175.00999450683594,177.97000122070312,179.07000732421875,175.49000549316406,173.92999267578125,174.7899932861328,176.0800018310547,171.9600067138672,170.42999267578125,170.69000244140625,171.2100067138672,173.75,172.39999389648438,173.66000366210938,174.91000366210938,177.49000549316406,178.99000549316406,178.38999938964844,179.8000030517578,180.7100067138672,178.85000610351562,178.72000122070312,177.14999389648438,175.83999633789062,175.4600067138672,172.8800048828125,173.0,173.44000244140625,171.10000610351562,166.88999938964844,168.22000122070312,170.2899932861328,170.77000427246094,173.97000122070312,177.57000732421875,176.64999389648438,179.22999572753906,181.82000732421875,182.88999938964844,182.41000366210938,186.39999389648438,184.8000030517578,187.44000244140625,188.00999450683594,189.7100067138672,189.69000244140625,191.4499969482422,190.63999938964844,191.30999755859375,189.97000122070312,189.7899932861328,190.39999389648438,189.3699951171875,189.9499969482422,191.24000549316406,189.42999267578125,193.4199981689453,192.32000732421875,194.27000427246094,195.7100067138672,193.17999267578125,194.7100067138672,197.9600067138672,198.11000061035156,197.57000732421875,195.88999938964844,196.94000244140625,194.8300018310547,194.67999267578125,193.60000610351562,193.0500030517578,193.14999389648438,193.5800018310547,192.52999877929688,185.63999938964844,184.25,181.91000366210938,181.17999267578125,185.55999755859375,185.13999938964844,186.19000244140625,185.58999633789062,185.9199981689453,183.6300048828125,182.67999267578125,188.6300048828125,191.55999755859375,193.88999938964844,195.17999267578125,194.5,194.1699981689453,192.4199981689453,191.72999572753906,188.0399932861328,184.39999389648438,186.86000061035156,185.85000610351562,187.67999267578125,189.3000030517578,189.41000366210938,188.32000732421875,188.85000610351562,187.14999389648438,185.0399932861328,184.14999389648438,183.86000061035156,182.30999755859375,181.55999755859375,182.32000732421875,184.3699951171875,182.52000427246094,181.16000366210938,182.6300048828125,181.4199981689453,180.75,179.66000366210938,175.10000610351562,170.1199951171875,169.1199951171875,169.0,170.72999572753906,172.75,173.22999572753906,171.1300048828125,173.0,172.6199951171875,173.72000122070312,176.0800018310547,178.6699981689453,171.3699951171875,172.27999877929688,170.85000610351562,169.7100067138672,173.30999755859375,171.47999572753906,170.02999877929688,168.83999633789062,169.64999389648438,168.82000732421875,169.5800018310547,168.4499969482422,169.6699981689453,167.77999877929688,175.0399932861328,176.5500030517578,172.69000244140625,169.3800048828125,168.0,167.0399932861328,165.0,165.83999633789062,166.89999389648438,169.02000427246094,169.88999938964844,169.3000030517578,173.5,170.3300018310547,169.3000030517578,173.02999877929688,183.3800048828125,181.7100067138672,182.39999389648438,182.74000549316406,184.57000732421875,183.0500030517578,186.27999877929688,187.42999267578125,189.72000122070312,189.83999633789062,189.8699951171875,191.0399932861328,192.35000610351562,190.89999389648438,186.8800048828125,189.97999572753906,189.99000549316406,190.2899932861328],\"yaxis\":\"y\",\"type\":\"bar\"}],                        {\"template\":{\"data\":{\"histogram2dcontour\":[{\"type\":\"histogram2dcontour\",\"colorbar\":{\"outlinewidth\":0,\"ticks\":\"\"},\"colorscale\":[[0.0,\"#0d0887\"],[0.1111111111111111,\"#46039f\"],[0.2222222222222222,\"#7201a8\"],[0.3333333333333333,\"#9c179e\"],[0.4444444444444444,\"#bd3786\"],[0.5555555555555556,\"#d8576b\"],[0.6666666666666666,\"#ed7953\"],[0.7777777777777778,\"#fb9f3a\"],[0.8888888888888888,\"#fdca26\"],[1.0,\"#f0f921\"]]}],\"choropleth\":[{\"type\":\"choropleth\",\"colorbar\":{\"outlinewidth\":0,\"ticks\":\"\"}}],\"histogram2d\":[{\"type\":\"histogram2d\",\"colorbar\":{\"outlinewidth\":0,\"ticks\":\"\"},\"colorscale\":[[0.0,\"#0d0887\"],[0.1111111111111111,\"#46039f\"],[0.2222222222222222,\"#7201a8\"],[0.3333333333333333,\"#9c179e\"],[0.4444444444444444,\"#bd3786\"],[0.5555555555555556,\"#d8576b\"],[0.6666666666666666,\"#ed7953\"],[0.7777777777777778,\"#fb9f3a\"],[0.8888888888888888,\"#fdca26\"],[1.0,\"#f0f921\"]]}],\"heatmap\":[{\"type\":\"heatmap\",\"colorbar\":{\"outlinewidth\":0,\"ticks\":\"\"},\"colorscale\":[[0.0,\"#0d0887\"],[0.1111111111111111,\"#46039f\"],[0.2222222222222222,\"#7201a8\"],[0.3333333333333333,\"#9c179e\"],[0.4444444444444444,\"#bd3786\"],[0.5555555555555556,\"#d8576b\"],[0.6666666666666666,\"#ed7953\"],[0.7777777777777778,\"#fb9f3a\"],[0.8888888888888888,\"#fdca26\"],[1.0,\"#f0f921\"]]}],\"heatmapgl\":[{\"type\":\"heatmapgl\",\"colorbar\":{\"outlinewidth\":0,\"ticks\":\"\"},\"colorscale\":[[0.0,\"#0d0887\"],[0.1111111111111111,\"#46039f\"],[0.2222222222222222,\"#7201a8\"],[0.3333333333333333,\"#9c179e\"],[0.4444444444444444,\"#bd3786\"],[0.5555555555555556,\"#d8576b\"],[0.6666666666666666,\"#ed7953\"],[0.7777777777777778,\"#fb9f3a\"],[0.8888888888888888,\"#fdca26\"],[1.0,\"#f0f921\"]]}],\"contourcarpet\":[{\"type\":\"contourcarpet\",\"colorbar\":{\"outlinewidth\":0,\"ticks\":\"\"}}],\"contour\":[{\"type\":\"contour\",\"colorbar\":{\"outlinewidth\":0,\"ticks\":\"\"},\"colorscale\":[[0.0,\"#0d0887\"],[0.1111111111111111,\"#46039f\"],[0.2222222222222222,\"#7201a8\"],[0.3333333333333333,\"#9c179e\"],[0.4444444444444444,\"#bd3786\"],[0.5555555555555556,\"#d8576b\"],[0.6666666666666666,\"#ed7953\"],[0.7777777777777778,\"#fb9f3a\"],[0.8888888888888888,\"#fdca26\"],[1.0,\"#f0f921\"]]}],\"surface\":[{\"type\":\"surface\",\"colorbar\":{\"outlinewidth\":0,\"ticks\":\"\"},\"colorscale\":[[0.0,\"#0d0887\"],[0.1111111111111111,\"#46039f\"],[0.2222222222222222,\"#7201a8\"],[0.3333333333333333,\"#9c179e\"],[0.4444444444444444,\"#bd3786\"],[0.5555555555555556,\"#d8576b\"],[0.6666666666666666,\"#ed7953\"],[0.7777777777777778,\"#fb9f3a\"],[0.8888888888888888,\"#fdca26\"],[1.0,\"#f0f921\"]]}],\"mesh3d\":[{\"type\":\"mesh3d\",\"colorbar\":{\"outlinewidth\":0,\"ticks\":\"\"}}],\"scatter\":[{\"fillpattern\":{\"fillmode\":\"overlay\",\"size\":10,\"solidity\":0.2},\"type\":\"scatter\"}],\"parcoords\":[{\"type\":\"parcoords\",\"line\":{\"colorbar\":{\"outlinewidth\":0,\"ticks\":\"\"}}}],\"scatterpolargl\":[{\"type\":\"scatterpolargl\",\"marker\":{\"colorbar\":{\"outlinewidth\":0,\"ticks\":\"\"}}}],\"bar\":[{\"error_x\":{\"color\":\"#2a3f5f\"},\"error_y\":{\"color\":\"#2a3f5f\"},\"marker\":{\"line\":{\"color\":\"#E5ECF6\",\"width\":0.5},\"pattern\":{\"fillmode\":\"overlay\",\"size\":10,\"solidity\":0.2}},\"type\":\"bar\"}],\"scattergeo\":[{\"type\":\"scattergeo\",\"marker\":{\"colorbar\":{\"outlinewidth\":0,\"ticks\":\"\"}}}],\"scatterpolar\":[{\"type\":\"scatterpolar\",\"marker\":{\"colorbar\":{\"outlinewidth\":0,\"ticks\":\"\"}}}],\"histogram\":[{\"marker\":{\"pattern\":{\"fillmode\":\"overlay\",\"size\":10,\"solidity\":0.2}},\"type\":\"histogram\"}],\"scattergl\":[{\"type\":\"scattergl\",\"marker\":{\"colorbar\":{\"outlinewidth\":0,\"ticks\":\"\"}}}],\"scatter3d\":[{\"type\":\"scatter3d\",\"line\":{\"colorbar\":{\"outlinewidth\":0,\"ticks\":\"\"}},\"marker\":{\"colorbar\":{\"outlinewidth\":0,\"ticks\":\"\"}}}],\"scattermapbox\":[{\"type\":\"scattermapbox\",\"marker\":{\"colorbar\":{\"outlinewidth\":0,\"ticks\":\"\"}}}],\"scatterternary\":[{\"type\":\"scatterternary\",\"marker\":{\"colorbar\":{\"outlinewidth\":0,\"ticks\":\"\"}}}],\"scattercarpet\":[{\"type\":\"scattercarpet\",\"marker\":{\"colorbar\":{\"outlinewidth\":0,\"ticks\":\"\"}}}],\"carpet\":[{\"aaxis\":{\"endlinecolor\":\"#2a3f5f\",\"gridcolor\":\"white\",\"linecolor\":\"white\",\"minorgridcolor\":\"white\",\"startlinecolor\":\"#2a3f5f\"},\"baxis\":{\"endlinecolor\":\"#2a3f5f\",\"gridcolor\":\"white\",\"linecolor\":\"white\",\"minorgridcolor\":\"white\",\"startlinecolor\":\"#2a3f5f\"},\"type\":\"carpet\"}],\"table\":[{\"cells\":{\"fill\":{\"color\":\"#EBF0F8\"},\"line\":{\"color\":\"white\"}},\"header\":{\"fill\":{\"color\":\"#C8D4E3\"},\"line\":{\"color\":\"white\"}},\"type\":\"table\"}],\"barpolar\":[{\"marker\":{\"line\":{\"color\":\"#E5ECF6\",\"width\":0.5},\"pattern\":{\"fillmode\":\"overlay\",\"size\":10,\"solidity\":0.2}},\"type\":\"barpolar\"}],\"pie\":[{\"automargin\":true,\"type\":\"pie\"}]},\"layout\":{\"autotypenumbers\":\"strict\",\"colorway\":[\"#636efa\",\"#EF553B\",\"#00cc96\",\"#ab63fa\",\"#FFA15A\",\"#19d3f3\",\"#FF6692\",\"#B6E880\",\"#FF97FF\",\"#FECB52\"],\"font\":{\"color\":\"#2a3f5f\"},\"hovermode\":\"closest\",\"hoverlabel\":{\"align\":\"left\"},\"paper_bgcolor\":\"white\",\"plot_bgcolor\":\"#E5ECF6\",\"polar\":{\"bgcolor\":\"#E5ECF6\",\"angularaxis\":{\"gridcolor\":\"white\",\"linecolor\":\"white\",\"ticks\":\"\"},\"radialaxis\":{\"gridcolor\":\"white\",\"linecolor\":\"white\",\"ticks\":\"\"}},\"ternary\":{\"bgcolor\":\"#E5ECF6\",\"aaxis\":{\"gridcolor\":\"white\",\"linecolor\":\"white\",\"ticks\":\"\"},\"baxis\":{\"gridcolor\":\"white\",\"linecolor\":\"white\",\"ticks\":\"\"},\"caxis\":{\"gridcolor\":\"white\",\"linecolor\":\"white\",\"ticks\":\"\"}},\"coloraxis\":{\"colorbar\":{\"outlinewidth\":0,\"ticks\":\"\"}},\"colorscale\":{\"sequential\":[[0.0,\"#0d0887\"],[0.1111111111111111,\"#46039f\"],[0.2222222222222222,\"#7201a8\"],[0.3333333333333333,\"#9c179e\"],[0.4444444444444444,\"#bd3786\"],[0.5555555555555556,\"#d8576b\"],[0.6666666666666666,\"#ed7953\"],[0.7777777777777778,\"#fb9f3a\"],[0.8888888888888888,\"#fdca26\"],[1.0,\"#f0f921\"]],\"sequentialminus\":[[0.0,\"#0d0887\"],[0.1111111111111111,\"#46039f\"],[0.2222222222222222,\"#7201a8\"],[0.3333333333333333,\"#9c179e\"],[0.4444444444444444,\"#bd3786\"],[0.5555555555555556,\"#d8576b\"],[0.6666666666666666,\"#ed7953\"],[0.7777777777777778,\"#fb9f3a\"],[0.8888888888888888,\"#fdca26\"],[1.0,\"#f0f921\"]],\"diverging\":[[0,\"#8e0152\"],[0.1,\"#c51b7d\"],[0.2,\"#de77ae\"],[0.3,\"#f1b6da\"],[0.4,\"#fde0ef\"],[0.5,\"#f7f7f7\"],[0.6,\"#e6f5d0\"],[0.7,\"#b8e186\"],[0.8,\"#7fbc41\"],[0.9,\"#4d9221\"],[1,\"#276419\"]]},\"xaxis\":{\"gridcolor\":\"white\",\"linecolor\":\"white\",\"ticks\":\"\",\"title\":{\"standoff\":15},\"zerolinecolor\":\"white\",\"automargin\":true,\"zerolinewidth\":2},\"yaxis\":{\"gridcolor\":\"white\",\"linecolor\":\"white\",\"ticks\":\"\",\"title\":{\"standoff\":15},\"zerolinecolor\":\"white\",\"automargin\":true,\"zerolinewidth\":2},\"scene\":{\"xaxis\":{\"backgroundcolor\":\"#E5ECF6\",\"gridcolor\":\"white\",\"linecolor\":\"white\",\"showbackground\":true,\"ticks\":\"\",\"zerolinecolor\":\"white\",\"gridwidth\":2},\"yaxis\":{\"backgroundcolor\":\"#E5ECF6\",\"gridcolor\":\"white\",\"linecolor\":\"white\",\"showbackground\":true,\"ticks\":\"\",\"zerolinecolor\":\"white\",\"gridwidth\":2},\"zaxis\":{\"backgroundcolor\":\"#E5ECF6\",\"gridcolor\":\"white\",\"linecolor\":\"white\",\"showbackground\":true,\"ticks\":\"\",\"zerolinecolor\":\"white\",\"gridwidth\":2}},\"shapedefaults\":{\"line\":{\"color\":\"#2a3f5f\"}},\"annotationdefaults\":{\"arrowcolor\":\"#2a3f5f\",\"arrowhead\":0,\"arrowwidth\":1},\"geo\":{\"bgcolor\":\"white\",\"landcolor\":\"#E5ECF6\",\"subunitcolor\":\"white\",\"showland\":true,\"showlakes\":true,\"lakecolor\":\"white\"},\"title\":{\"x\":0.05},\"mapbox\":{\"style\":\"light\"}}},\"xaxis\":{\"anchor\":\"y\",\"domain\":[0.0,1.0],\"title\":{\"text\":\"Date\"}},\"yaxis\":{\"anchor\":\"x\",\"domain\":[0.0,1.0],\"title\":{\"text\":\"Close\"}},\"legend\":{\"tracegroupgap\":0},\"title\":{\"text\":\"Closing prices trend.\"},\"barmode\":\"relative\"},                        {\"responsive\": true}                    ).then(function(){\n",
              "                            \n",
              "var gd = document.getElementById('97b0d45c-fd66-45d2-ae04-14df387d2bba');\n",
              "var x = new MutationObserver(function (mutations, observer) {{\n",
              "        var display = window.getComputedStyle(gd).display;\n",
              "        if (!display || display === 'none') {{\n",
              "            console.log([gd, 'removed!']);\n",
              "            Plotly.purge(gd);\n",
              "            observer.disconnect();\n",
              "        }}\n",
              "}});\n",
              "\n",
              "// Listen for the removal of the full notebook cells\n",
              "var notebookContainer = gd.closest('#notebook-container');\n",
              "if (notebookContainer) {{\n",
              "    x.observe(notebookContainer, {childList: true});\n",
              "}}\n",
              "\n",
              "// Listen for the clearing of the current output cell\n",
              "var outputEl = gd.closest('.output');\n",
              "if (outputEl) {{\n",
              "    x.observe(outputEl, {childList: true});\n",
              "}}\n",
              "\n",
              "                        })                };                            </script>        </div>\n",
              "</body>\n",
              "</html>"
            ]
          },
          "metadata": {}
        }
      ]
    },
    {
      "cell_type": "code",
      "source": [
        "figure = go.Figure(data = [go.Candlestick(x = data.index,\n",
        "                                        open = data[\"Open\"],\n",
        "                                        high = data[\"High\"],\n",
        "                                        low = data[\"Low\"],\n",
        "                                        close = data[\"Close\"])])\n",
        "figure.update_layout(title = \"Time Series Analysis (Candlestick Chart with Buttons and Slider)\")\n",
        "\n",
        "figure.update_xaxes(\n",
        "    rangeslider_visible = True,\n",
        "    rangeselector = dict(\n",
        "        buttons = list([\n",
        "            dict(count = 1, label = \"1m\", step = \"month\", stepmode = \"backward\"),\n",
        "            dict(count = 6, label = \"6m\", step = \"month\", stepmode = \"backward\"),\n",
        "            dict(count = 1, label = \"YTD\", step = \"year\", stepmode = \"todate\"),\n",
        "            dict(count = 1, label = \"1y\", step = \"year\", stepmode = \"backward\"),\n",
        "            dict(step = \"all\")\n",
        "        ])\n",
        "    )\n",
        ")\n",
        "figure.show()"
      ],
      "metadata": {
        "colab": {
          "base_uri": "https://localhost:8080/",
          "height": 542
        },
        "id": "wIZk8axtbxO4",
        "outputId": "8867c33e-6778-43c2-8968-9381c5ae8884"
      },
      "execution_count": 20,
      "outputs": [
        {
          "output_type": "display_data",
          "data": {
            "text/html": [
              "<html>\n",
              "<head><meta charset=\"utf-8\" /></head>\n",
              "<body>\n",
              "    <div>            <script src=\"https://cdnjs.cloudflare.com/ajax/libs/mathjax/2.7.5/MathJax.js?config=TeX-AMS-MML_SVG\"></script><script type=\"text/javascript\">if (window.MathJax && window.MathJax.Hub && window.MathJax.Hub.Config) {window.MathJax.Hub.Config({SVG: {font: \"STIX-Web\"}});}</script>                <script type=\"text/javascript\">window.PlotlyConfig = {MathJaxConfig: 'local'};</script>\n",
              "        <script charset=\"utf-8\" src=\"https://cdn.plot.ly/plotly-2.24.1.min.js\"></script>                <div id=\"f3e4abc1-0acf-492a-b315-4648f540c4be\" class=\"plotly-graph-div\" style=\"height:525px; width:100%;\"></div>            <script type=\"text/javascript\">                                    window.PLOTLYENV=window.PLOTLYENV || {};                                    if (document.getElementById(\"f3e4abc1-0acf-492a-b315-4648f540c4be\")) {                    Plotly.newPlot(                        \"f3e4abc1-0acf-492a-b315-4648f540c4be\",                        [{\"close\":[177.25,180.08999633789062,180.9499969482422,179.5800018310547,179.2100067138672,177.82000732421875,180.57000732421875,180.9600067138672,183.7899932861328,183.30999755859375,183.9499969482422,186.00999450683594,184.9199981689453,185.00999450683594,183.9600067138672,187.0,186.67999267578125,185.27000427246094,188.05999755859375,189.25,189.58999633789062,193.97000122070312,192.4600067138672,191.3300018310547,191.80999755859375,190.67999267578125,188.61000061035156,188.0800018310547,189.77000427246094,190.5399932861328,190.69000244140625,193.99000549316406,193.72999572753906,195.10000610351562,193.1300048828125,191.94000244140625,192.75,193.6199951171875,194.5,193.22000122070312,195.8300018310547,196.4499969482422,195.61000061035156,192.5800018310547,191.1699981689453,181.99000549316406,178.85000610351562,179.8000030517578,178.19000244140625,177.97000122070312,177.7899932861328,179.4600067138672,177.4499969482422,176.57000732421875,174.0,174.49000549316406,175.83999633789062,177.22999572753906,181.1199951171875,176.3800048828125,178.61000061035156,180.19000244140625,184.1199951171875,187.64999389648438,187.8699951171875,189.4600067138672,189.6999969482422,182.91000366210938,177.55999755859375,178.17999267578125,179.36000061035156,176.3000030517578,174.2100067138672,175.74000549316406,175.00999450683594,177.97000122070312,179.07000732421875,175.49000549316406,173.92999267578125,174.7899932861328,176.0800018310547,171.9600067138672,170.42999267578125,170.69000244140625,171.2100067138672,173.75,172.39999389648438,173.66000366210938,174.91000366210938,177.49000549316406,178.99000549316406,178.38999938964844,179.8000030517578,180.7100067138672,178.85000610351562,178.72000122070312,177.14999389648438,175.83999633789062,175.4600067138672,172.8800048828125,173.0,173.44000244140625,171.10000610351562,166.88999938964844,168.22000122070312,170.2899932861328,170.77000427246094,173.97000122070312,177.57000732421875,176.64999389648438,179.22999572753906,181.82000732421875,182.88999938964844,182.41000366210938,186.39999389648438,184.8000030517578,187.44000244140625,188.00999450683594,189.7100067138672,189.69000244140625,191.4499969482422,190.63999938964844,191.30999755859375,189.97000122070312,189.7899932861328,190.39999389648438,189.3699951171875,189.9499969482422,191.24000549316406,189.42999267578125,193.4199981689453,192.32000732421875,194.27000427246094,195.7100067138672,193.17999267578125,194.7100067138672,197.9600067138672,198.11000061035156,197.57000732421875,195.88999938964844,196.94000244140625,194.8300018310547,194.67999267578125,193.60000610351562,193.0500030517578,193.14999389648438,193.5800018310547,192.52999877929688,185.63999938964844,184.25,181.91000366210938,181.17999267578125,185.55999755859375,185.13999938964844,186.19000244140625,185.58999633789062,185.9199981689453,183.6300048828125,182.67999267578125,188.6300048828125,191.55999755859375,193.88999938964844,195.17999267578125,194.5,194.1699981689453,192.4199981689453,191.72999572753906,188.0399932861328,184.39999389648438,186.86000061035156,185.85000610351562,187.67999267578125,189.3000030517578,189.41000366210938,188.32000732421875,188.85000610351562,187.14999389648438,185.0399932861328,184.14999389648438,183.86000061035156,182.30999755859375,181.55999755859375,182.32000732421875,184.3699951171875,182.52000427246094,181.16000366210938,182.6300048828125,181.4199981689453,180.75,179.66000366210938,175.10000610351562,170.1199951171875,169.1199951171875,169.0,170.72999572753906,172.75,173.22999572753906,171.1300048828125,173.0,172.6199951171875,173.72000122070312,176.0800018310547,178.6699981689453,171.3699951171875,172.27999877929688,170.85000610351562,169.7100067138672,173.30999755859375,171.47999572753906,170.02999877929688,168.83999633789062,169.64999389648438,168.82000732421875,169.5800018310547,168.4499969482422,169.6699981689453,167.77999877929688,175.0399932861328,176.5500030517578,172.69000244140625,169.3800048828125,168.0,167.0399932861328,165.0,165.83999633789062,166.89999389648438,169.02000427246094,169.88999938964844,169.3000030517578,173.5,170.3300018310547,169.3000030517578,173.02999877929688,183.3800048828125,181.7100067138672,182.39999389648438,182.74000549316406,184.57000732421875,183.0500030517578,186.27999877929688,187.42999267578125,189.72000122070312,189.83999633789062,189.8699951171875,191.0399932861328,192.35000610351562,190.89999389648438,186.8800048828125,189.97999572753906,189.99000549316406,190.2899932861328],\"high\":[179.35000610351562,180.1199951171875,181.77999877929688,184.9499969482422,180.1199951171875,181.2100067138672,180.83999633789062,182.22999572753906,183.88999938964844,184.14999389648438,184.38999938964844,186.52000427246094,186.99000549316406,186.10000610351562,185.41000366210938,187.0500030517578,187.55999755859375,188.0500030517578,188.38999938964844,189.89999389648438,190.07000732421875,194.47999572753906,193.8800048828125,192.97999572753906,192.02000427246094,192.6699981689453,189.99000549316406,189.3000030517578,191.6999969482422,191.19000244140625,191.17999267578125,194.32000732421875,194.3300018310547,198.22999572753906,196.47000122070312,194.97000122070312,194.91000366210938,194.44000244140625,195.63999938964844,197.1999969482422,196.6300048828125,196.49000549316406,196.72999572753906,195.17999267578125,192.3699951171875,187.3800048828125,183.1300048828125,180.27000427246094,180.92999267578125,180.75,178.6199951171875,179.69000244140625,179.47999572753906,178.5399932861328,177.50999450683594,175.10000610351562,176.1300048828125,177.67999267578125,181.5500030517578,181.10000610351562,179.14999389648438,180.58999633789062,184.89999389648438,187.85000610351562,189.1199951171875,189.9199981689453,189.97999572753906,188.85000610351562,178.2100067138672,180.24000549316406,180.3000030517578,180.1300048828125,177.3000030517578,176.10000610351562,176.5,179.3800048828125,179.6300048828125,179.6999969482422,176.3000030517578,177.0800018310547,176.97000122070312,175.1999969482422,173.0399932861328,172.02999877929688,173.07000732421875,174.3000030517578,173.6300048828125,174.2100067138672,175.4499969482422,177.99000549316406,179.0500030517578,179.72000122070312,179.85000610351562,182.33999633789062,181.92999267578125,179.0800018310547,178.4199981689453,177.5800018310547,177.83999633789062,175.4199981689453,174.00999450683594,173.6699981689453,173.05999755859375,171.3800048828125,168.9600067138672,171.1699981689453,170.89999389648438,174.22999572753906,177.77999877929688,176.82000732421875,179.42999267578125,182.44000244140625,183.4499969482422,184.1199951171875,186.57000732421875,186.02999877929688,188.11000061035156,189.5,190.9600067138672,190.3800048828125,191.91000366210938,191.52000427246094,192.92999267578125,190.89999389648438,190.6699981689453,191.0800018310547,192.08999633789062,190.32000732421875,191.55999755859375,190.0500030517578,194.39999389648438,194.75999450683594,195.0,195.99000549316406,193.49000549316406,194.72000122070312,198.0,199.6199951171875,198.39999389648438,196.6300048828125,196.9499969482422,197.67999267578125,197.0800018310547,195.41000366210938,193.88999938964844,193.5,194.66000366210938,194.39999389648438,188.44000244140625,185.8800048828125,183.08999633789062,182.75999450683594,185.60000610351562,185.14999389648438,186.39999389648438,187.0500030517578,186.74000549316406,184.25999450683594,182.92999267578125,189.13999938964844,191.9499969482422,195.3300018310547,195.75,196.3800048828125,196.27000427246094,194.75999450683594,192.1999969482422,191.8000030517578,187.10000610351562,186.9499969482422,187.3300018310547,189.25,189.30999755859375,191.0500030517578,189.5399932861328,189.99000549316406,188.6699981689453,186.2100067138672,185.52999877929688,184.49000549316406,184.85000610351562,182.42999267578125,182.88999938964844,184.9600067138672,185.0399932861328,182.75999450683594,183.9199981689453,183.1199951171875,182.57000732421875,180.52999877929688,176.89999389648438,172.0399932861328,171.24000549316406,170.72999572753906,173.6999969482422,174.3800048828125,174.02999877929688,173.19000244140625,174.30999755859375,172.6199951171875,177.7100067138672,176.61000061035156,178.6699981689453,177.49000549316406,173.0500030517578,171.94000244140625,171.4199981689453,173.60000610351562,172.22999572753906,171.25,169.33999633789062,170.67999267578125,171.9199981689453,170.38999938964844,169.1999969482422,170.0800018310547,169.08999633789062,175.4600067138672,178.36000061035156,176.6300048828125,173.75999450683594,170.64999389648438,168.63999938964844,166.39999389648438,167.25999450683594,167.0500030517578,169.3000030517578,170.61000061035156,171.33999633789062,176.02999877929688,174.99000549316406,172.7100067138672,173.4199981689453,187.0,184.1999969482422,184.89999389648438,183.07000732421875,184.66000366210938,185.08999633789062,187.10000610351562,188.3000030517578,190.64999389648438,191.10000610351562,190.80999755859375,191.9199981689453,192.72999572753906,192.82000732421875,191.0,190.5800018310547,193.0,192.25],\"low\":[176.75999450683594,176.92999267578125,179.25999450683594,178.0399932861328,177.42999267578125,177.32000732421875,177.4600067138672,180.6300048828125,180.97000122070312,182.44000244140625,182.02000427246094,183.77999877929688,184.27000427246094,184.41000366210938,182.58999633789062,183.6699981689453,185.00999450683594,185.22999572753906,185.6699981689453,187.60000610351562,188.94000244140625,191.25999450683594,191.75999450683594,190.6199951171875,189.1999969482422,190.24000549316406,187.0399932861328,186.60000610351562,188.47000122070312,189.77999877929688,189.6300048828125,191.80999755859375,192.4199981689453,192.64999389648438,192.5,191.22999572753906,192.25,192.9199981689453,193.32000732421875,192.5500030517578,194.13999938964844,195.25999450683594,195.27999877929688,191.85000610351562,190.69000244140625,181.9199981689453,177.35000610351562,177.5800018310547,177.00999450683594,177.60000610351562,176.5500030517578,177.30999755859375,177.0500030517578,176.5,173.47999572753906,171.9600067138672,173.74000549316406,176.25,178.3300018310547,176.00999450683594,175.82000732421875,178.5500030517578,179.5,184.74000549316406,187.47999572753906,188.27999877929688,187.61000061035156,181.47000122070312,173.5399932861328,177.7899932861328,177.33999633789062,174.82000732421875,173.97999572753906,173.5800018310547,173.82000732421875,176.1699981689453,177.1300048828125,175.39999389648438,173.86000061035156,174.0500030517578,174.14999389648438,171.66000366210938,169.0500030517578,167.6199951171875,170.33999633789062,170.92999267578125,170.82000732421875,170.97000122070312,172.67999267578125,173.17999267578125,175.8000030517578,177.9499969482422,177.60000610351562,179.0399932861328,178.13999938964844,176.50999450683594,174.8000030517578,175.11000061035156,175.19000244140625,172.63999938964844,169.92999267578125,171.4499969482422,170.64999389648438,165.6699981689453,166.8300018310547,168.8699951171875,167.89999389648438,170.1199951171875,175.4600067138672,173.35000610351562,176.2100067138672,178.97000122070312,181.58999633789062,181.80999755859375,183.52999877929688,184.2100067138672,186.3000030517578,187.77999877929688,188.64999389648438,188.57000732421875,189.8800048828125,189.74000549316406,190.8300018310547,189.25,188.89999389648438,189.39999389648438,188.97000122070312,188.19000244140625,189.22999572753906,187.4499969482422,190.17999267578125,192.11000061035156,193.58999633789062,193.6699981689453,191.4199981689453,191.72000122070312,194.85000610351562,196.16000366210938,197.0,194.38999938964844,195.88999938964844,194.8300018310547,193.5,192.97000122070312,192.8300018310547,191.08999633789062,193.1699981689453,191.72999572753906,183.88999938964844,183.42999267578125,180.8800048828125,180.1699981689453,181.5,182.72999572753906,183.9199981689453,183.6199951171875,185.19000244140625,180.92999267578125,180.3000030517578,185.8300018310547,188.82000732421875,192.25999450683594,193.8300018310547,194.33999633789062,193.11000061035156,191.94000244140625,189.5800018310547,187.47000122070312,184.35000610351562,183.82000732421875,179.25,185.83999633789062,186.77000427246094,188.61000061035156,187.35000610351562,188.0,186.7899932861328,183.50999450683594,182.44000244140625,181.35000610351562,181.6699981689453,180.0,180.66000366210938,182.4600067138672,182.22999572753906,180.64999389648438,179.55999755859375,180.1300048828125,179.52999877929688,177.3800048828125,173.7899932861328,169.6199951171875,168.67999267578125,168.49000549316406,168.94000244140625,172.0500030517578,171.00999450683594,170.75999450683594,172.0500030517578,170.2899932861328,173.52000427246094,173.02999877929688,175.08999633789062,170.83999633789062,170.05999755859375,169.4499969482422,169.5800018310547,170.11000061035156,170.50999450683594,169.47999572753906,168.22999572753906,168.5800018310547,168.82000732421875,168.9499969482422,168.24000549316406,168.35000610351562,167.11000061035156,168.16000366210938,174.2100067138672,172.5,168.27000427246094,168.0,166.5500030517578,164.0800018310547,164.77000427246094,164.9199981689453,166.2100067138672,168.14999389648438,169.17999267578125,173.10000610351562,170.0,169.11000061035156,170.88999938964844,182.66000366210938,180.4199981689453,181.32000732421875,181.4499969482422,182.11000061035156,182.1300048828125,184.6199951171875,186.2899932861328,187.3699951171875,189.66000366210938,189.17999267578125,189.00999450683594,190.9199981689453,190.27000427246094,186.6300048828125,188.0399932861328,189.10000610351562,189.50999450683594],\"open\":[177.3300018310547,177.6999969482422,181.02999877929688,182.6300048828125,179.97000122070312,178.44000244140625,177.89999389648438,181.5,181.27000427246094,182.8000030517578,183.3699951171875,183.9600067138672,186.72999572753906,184.41000366210938,184.89999389648438,183.74000549316406,185.5500030517578,186.8300018310547,185.88999938964844,187.92999267578125,189.0800018310547,191.6300048828125,193.77999877929688,191.57000732421875,189.83999633789062,191.41000366210938,189.25999450683594,189.16000366210938,189.67999267578125,190.5,190.22999572753906,191.89999389648438,193.35000610351562,193.10000610351562,195.08999633789062,194.10000610351562,193.41000366210938,193.3300018310547,193.6699981689453,196.02000427246094,194.6699981689453,196.05999755859375,196.24000549316406,195.0399932861328,191.57000732421875,185.52000427246094,182.1300048828125,179.69000244140625,180.8699951171875,179.47999572753906,177.32000732421875,177.97000122070312,178.8800048828125,177.1300048828125,177.13999938964844,172.3000030517578,175.07000732421875,177.05999755859375,178.52000427246094,180.6699981689453,177.3800048828125,180.08999633789062,179.6999969482422,184.94000244140625,187.83999633789062,189.49000549316406,188.27999877929688,188.39999389648438,175.17999267578125,178.35000610351562,180.07000732421875,179.49000549316406,176.50999450683594,174.0,176.47999572753906,176.47999572753906,177.52000427246094,179.25999450683594,174.5500030517578,174.6699981689453,174.1999969482422,174.82000732421875,172.6199951171875,169.33999633789062,172.02000427246094,171.22000122070312,172.25999450683594,171.08999633789062,173.7899932861328,173.8000030517578,176.80999755859375,178.10000610351562,178.1999969482422,180.07000732421875,181.4199981689453,176.75,176.64999389648438,175.5800018310547,176.0399932861328,175.30999755859375,170.91000366210938,173.0500030517578,171.8800048828125,170.3699951171875,166.91000366210938,169.02000427246094,169.35000610351562,171.0,175.52000427246094,174.24000549316406,176.3800048828125,179.17999267578125,182.35000610351562,182.9600067138672,183.97000122070312,185.82000732421875,187.6999969482422,187.85000610351562,189.57000732421875,190.25,189.88999938964844,191.41000366210938,191.49000549316406,190.8699951171875,189.9199981689453,189.77999877929688,190.89999389648438,189.83999633789062,190.3300018310547,189.97999572753906,190.2100067138672,194.4499969482422,193.6300048828125,194.1999969482422,193.11000061035156,193.0800018310547,195.08999633789062,198.02000427246094,197.52999877929688,196.08999633789062,196.16000366210938,196.89999389648438,196.10000610351562,195.17999267578125,193.61000061035156,192.49000549316406,194.13999938964844,193.89999389648438,187.14999389648438,184.22000122070312,182.14999389648438,181.99000549316406,182.08999633789062,183.9199981689453,184.35000610351562,186.5399932861328,186.05999755859375,182.16000366210938,181.27000427246094,186.08999633789062,189.3300018310547,192.3000030517578,195.02000427246094,195.4199981689453,195.22000122070312,194.27000427246094,192.00999450683594,190.94000244140625,187.0399932861328,183.99000549316406,179.86000061035156,188.14999389648438,186.86000061035156,190.63999938964844,189.38999938964844,188.64999389648438,188.4199981689453,185.77000427246094,185.32000732421875,183.5500030517578,183.4199981689453,181.7899932861328,181.94000244140625,183.47999572753906,185.00999450683594,182.24000549316406,181.10000610351562,182.50999450683594,181.27000427246094,179.5500030517578,176.14999389648438,170.75999450683594,171.05999755859375,169.14999389648438,169.0,172.94000244140625,173.14999389648438,172.77000427246094,172.91000366210938,171.1699981689453,175.57000732421875,174.33999633789062,175.72000122070312,177.0500030517578,171.75999450683594,170.57000732421875,170.0,170.41000366210938,171.75,171.19000244140625,169.0800018310547,168.7899932861328,170.2899932861328,169.58999633789062,169.02999877929688,168.6999969482422,168.8000030517578,168.33999633789062,174.25999450683594,175.36000061035156,171.75,169.61000061035156,168.02999877929688,166.2100067138672,165.52000427246094,165.35000610351562,166.5399932861328,169.52999877929688,169.8800048828125,173.3699951171875,173.3300018310547,169.5800018310547,172.50999450683594,186.64999389648438,182.35000610351562,183.4499969482422,182.85000610351562,182.55999755859375,184.89999389648438,185.44000244140625,187.50999450683594,187.91000366210938,190.47000122070312,189.50999450683594,189.3300018310547,191.08999633789062,192.27000427246094,190.97999572753906,188.82000732421875,191.50999450683594,189.61000061035156],\"x\":[\"2023-05-31T00:00:00\",\"2023-06-01T00:00:00\",\"2023-06-02T00:00:00\",\"2023-06-05T00:00:00\",\"2023-06-06T00:00:00\",\"2023-06-07T00:00:00\",\"2023-06-08T00:00:00\",\"2023-06-09T00:00:00\",\"2023-06-12T00:00:00\",\"2023-06-13T00:00:00\",\"2023-06-14T00:00:00\",\"2023-06-15T00:00:00\",\"2023-06-16T00:00:00\",\"2023-06-20T00:00:00\",\"2023-06-21T00:00:00\",\"2023-06-22T00:00:00\",\"2023-06-23T00:00:00\",\"2023-06-26T00:00:00\",\"2023-06-27T00:00:00\",\"2023-06-28T00:00:00\",\"2023-06-29T00:00:00\",\"2023-06-30T00:00:00\",\"2023-07-03T00:00:00\",\"2023-07-05T00:00:00\",\"2023-07-06T00:00:00\",\"2023-07-07T00:00:00\",\"2023-07-10T00:00:00\",\"2023-07-11T00:00:00\",\"2023-07-12T00:00:00\",\"2023-07-13T00:00:00\",\"2023-07-14T00:00:00\",\"2023-07-17T00:00:00\",\"2023-07-18T00:00:00\",\"2023-07-19T00:00:00\",\"2023-07-20T00:00:00\",\"2023-07-21T00:00:00\",\"2023-07-24T00:00:00\",\"2023-07-25T00:00:00\",\"2023-07-26T00:00:00\",\"2023-07-27T00:00:00\",\"2023-07-28T00:00:00\",\"2023-07-31T00:00:00\",\"2023-08-01T00:00:00\",\"2023-08-02T00:00:00\",\"2023-08-03T00:00:00\",\"2023-08-04T00:00:00\",\"2023-08-07T00:00:00\",\"2023-08-08T00:00:00\",\"2023-08-09T00:00:00\",\"2023-08-10T00:00:00\",\"2023-08-11T00:00:00\",\"2023-08-14T00:00:00\",\"2023-08-15T00:00:00\",\"2023-08-16T00:00:00\",\"2023-08-17T00:00:00\",\"2023-08-18T00:00:00\",\"2023-08-21T00:00:00\",\"2023-08-22T00:00:00\",\"2023-08-23T00:00:00\",\"2023-08-24T00:00:00\",\"2023-08-25T00:00:00\",\"2023-08-28T00:00:00\",\"2023-08-29T00:00:00\",\"2023-08-30T00:00:00\",\"2023-08-31T00:00:00\",\"2023-09-01T00:00:00\",\"2023-09-05T00:00:00\",\"2023-09-06T00:00:00\",\"2023-09-07T00:00:00\",\"2023-09-08T00:00:00\",\"2023-09-11T00:00:00\",\"2023-09-12T00:00:00\",\"2023-09-13T00:00:00\",\"2023-09-14T00:00:00\",\"2023-09-15T00:00:00\",\"2023-09-18T00:00:00\",\"2023-09-19T00:00:00\",\"2023-09-20T00:00:00\",\"2023-09-21T00:00:00\",\"2023-09-22T00:00:00\",\"2023-09-25T00:00:00\",\"2023-09-26T00:00:00\",\"2023-09-27T00:00:00\",\"2023-09-28T00:00:00\",\"2023-09-29T00:00:00\",\"2023-10-02T00:00:00\",\"2023-10-03T00:00:00\",\"2023-10-04T00:00:00\",\"2023-10-05T00:00:00\",\"2023-10-06T00:00:00\",\"2023-10-09T00:00:00\",\"2023-10-10T00:00:00\",\"2023-10-11T00:00:00\",\"2023-10-12T00:00:00\",\"2023-10-13T00:00:00\",\"2023-10-16T00:00:00\",\"2023-10-17T00:00:00\",\"2023-10-18T00:00:00\",\"2023-10-19T00:00:00\",\"2023-10-20T00:00:00\",\"2023-10-23T00:00:00\",\"2023-10-24T00:00:00\",\"2023-10-25T00:00:00\",\"2023-10-26T00:00:00\",\"2023-10-27T00:00:00\",\"2023-10-30T00:00:00\",\"2023-10-31T00:00:00\",\"2023-11-01T00:00:00\",\"2023-11-02T00:00:00\",\"2023-11-03T00:00:00\",\"2023-11-06T00:00:00\",\"2023-11-07T00:00:00\",\"2023-11-08T00:00:00\",\"2023-11-09T00:00:00\",\"2023-11-10T00:00:00\",\"2023-11-13T00:00:00\",\"2023-11-14T00:00:00\",\"2023-11-15T00:00:00\",\"2023-11-16T00:00:00\",\"2023-11-17T00:00:00\",\"2023-11-20T00:00:00\",\"2023-11-21T00:00:00\",\"2023-11-22T00:00:00\",\"2023-11-24T00:00:00\",\"2023-11-27T00:00:00\",\"2023-11-28T00:00:00\",\"2023-11-29T00:00:00\",\"2023-11-30T00:00:00\",\"2023-12-01T00:00:00\",\"2023-12-04T00:00:00\",\"2023-12-05T00:00:00\",\"2023-12-06T00:00:00\",\"2023-12-07T00:00:00\",\"2023-12-08T00:00:00\",\"2023-12-11T00:00:00\",\"2023-12-12T00:00:00\",\"2023-12-13T00:00:00\",\"2023-12-14T00:00:00\",\"2023-12-15T00:00:00\",\"2023-12-18T00:00:00\",\"2023-12-19T00:00:00\",\"2023-12-20T00:00:00\",\"2023-12-21T00:00:00\",\"2023-12-22T00:00:00\",\"2023-12-26T00:00:00\",\"2023-12-27T00:00:00\",\"2023-12-28T00:00:00\",\"2023-12-29T00:00:00\",\"2024-01-02T00:00:00\",\"2024-01-03T00:00:00\",\"2024-01-04T00:00:00\",\"2024-01-05T00:00:00\",\"2024-01-08T00:00:00\",\"2024-01-09T00:00:00\",\"2024-01-10T00:00:00\",\"2024-01-11T00:00:00\",\"2024-01-12T00:00:00\",\"2024-01-16T00:00:00\",\"2024-01-17T00:00:00\",\"2024-01-18T00:00:00\",\"2024-01-19T00:00:00\",\"2024-01-22T00:00:00\",\"2024-01-23T00:00:00\",\"2024-01-24T00:00:00\",\"2024-01-25T00:00:00\",\"2024-01-26T00:00:00\",\"2024-01-29T00:00:00\",\"2024-01-30T00:00:00\",\"2024-01-31T00:00:00\",\"2024-02-01T00:00:00\",\"2024-02-02T00:00:00\",\"2024-02-05T00:00:00\",\"2024-02-06T00:00:00\",\"2024-02-07T00:00:00\",\"2024-02-08T00:00:00\",\"2024-02-09T00:00:00\",\"2024-02-12T00:00:00\",\"2024-02-13T00:00:00\",\"2024-02-14T00:00:00\",\"2024-02-15T00:00:00\",\"2024-02-16T00:00:00\",\"2024-02-20T00:00:00\",\"2024-02-21T00:00:00\",\"2024-02-22T00:00:00\",\"2024-02-23T00:00:00\",\"2024-02-26T00:00:00\",\"2024-02-27T00:00:00\",\"2024-02-28T00:00:00\",\"2024-02-29T00:00:00\",\"2024-03-01T00:00:00\",\"2024-03-04T00:00:00\",\"2024-03-05T00:00:00\",\"2024-03-06T00:00:00\",\"2024-03-07T00:00:00\",\"2024-03-08T00:00:00\",\"2024-03-11T00:00:00\",\"2024-03-12T00:00:00\",\"2024-03-13T00:00:00\",\"2024-03-14T00:00:00\",\"2024-03-15T00:00:00\",\"2024-03-18T00:00:00\",\"2024-03-19T00:00:00\",\"2024-03-20T00:00:00\",\"2024-03-21T00:00:00\",\"2024-03-22T00:00:00\",\"2024-03-25T00:00:00\",\"2024-03-26T00:00:00\",\"2024-03-27T00:00:00\",\"2024-03-28T00:00:00\",\"2024-04-01T00:00:00\",\"2024-04-02T00:00:00\",\"2024-04-03T00:00:00\",\"2024-04-04T00:00:00\",\"2024-04-05T00:00:00\",\"2024-04-08T00:00:00\",\"2024-04-09T00:00:00\",\"2024-04-10T00:00:00\",\"2024-04-11T00:00:00\",\"2024-04-12T00:00:00\",\"2024-04-15T00:00:00\",\"2024-04-16T00:00:00\",\"2024-04-17T00:00:00\",\"2024-04-18T00:00:00\",\"2024-04-19T00:00:00\",\"2024-04-22T00:00:00\",\"2024-04-23T00:00:00\",\"2024-04-24T00:00:00\",\"2024-04-25T00:00:00\",\"2024-04-26T00:00:00\",\"2024-04-29T00:00:00\",\"2024-04-30T00:00:00\",\"2024-05-01T00:00:00\",\"2024-05-02T00:00:00\",\"2024-05-03T00:00:00\",\"2024-05-06T00:00:00\",\"2024-05-07T00:00:00\",\"2024-05-08T00:00:00\",\"2024-05-09T00:00:00\",\"2024-05-10T00:00:00\",\"2024-05-13T00:00:00\",\"2024-05-14T00:00:00\",\"2024-05-15T00:00:00\",\"2024-05-16T00:00:00\",\"2024-05-17T00:00:00\",\"2024-05-20T00:00:00\",\"2024-05-21T00:00:00\",\"2024-05-22T00:00:00\",\"2024-05-23T00:00:00\",\"2024-05-24T00:00:00\",\"2024-05-28T00:00:00\",\"2024-05-29T00:00:00\"],\"type\":\"candlestick\"}],                        {\"template\":{\"data\":{\"histogram2dcontour\":[{\"type\":\"histogram2dcontour\",\"colorbar\":{\"outlinewidth\":0,\"ticks\":\"\"},\"colorscale\":[[0.0,\"#0d0887\"],[0.1111111111111111,\"#46039f\"],[0.2222222222222222,\"#7201a8\"],[0.3333333333333333,\"#9c179e\"],[0.4444444444444444,\"#bd3786\"],[0.5555555555555556,\"#d8576b\"],[0.6666666666666666,\"#ed7953\"],[0.7777777777777778,\"#fb9f3a\"],[0.8888888888888888,\"#fdca26\"],[1.0,\"#f0f921\"]]}],\"choropleth\":[{\"type\":\"choropleth\",\"colorbar\":{\"outlinewidth\":0,\"ticks\":\"\"}}],\"histogram2d\":[{\"type\":\"histogram2d\",\"colorbar\":{\"outlinewidth\":0,\"ticks\":\"\"},\"colorscale\":[[0.0,\"#0d0887\"],[0.1111111111111111,\"#46039f\"],[0.2222222222222222,\"#7201a8\"],[0.3333333333333333,\"#9c179e\"],[0.4444444444444444,\"#bd3786\"],[0.5555555555555556,\"#d8576b\"],[0.6666666666666666,\"#ed7953\"],[0.7777777777777778,\"#fb9f3a\"],[0.8888888888888888,\"#fdca26\"],[1.0,\"#f0f921\"]]}],\"heatmap\":[{\"type\":\"heatmap\",\"colorbar\":{\"outlinewidth\":0,\"ticks\":\"\"},\"colorscale\":[[0.0,\"#0d0887\"],[0.1111111111111111,\"#46039f\"],[0.2222222222222222,\"#7201a8\"],[0.3333333333333333,\"#9c179e\"],[0.4444444444444444,\"#bd3786\"],[0.5555555555555556,\"#d8576b\"],[0.6666666666666666,\"#ed7953\"],[0.7777777777777778,\"#fb9f3a\"],[0.8888888888888888,\"#fdca26\"],[1.0,\"#f0f921\"]]}],\"heatmapgl\":[{\"type\":\"heatmapgl\",\"colorbar\":{\"outlinewidth\":0,\"ticks\":\"\"},\"colorscale\":[[0.0,\"#0d0887\"],[0.1111111111111111,\"#46039f\"],[0.2222222222222222,\"#7201a8\"],[0.3333333333333333,\"#9c179e\"],[0.4444444444444444,\"#bd3786\"],[0.5555555555555556,\"#d8576b\"],[0.6666666666666666,\"#ed7953\"],[0.7777777777777778,\"#fb9f3a\"],[0.8888888888888888,\"#fdca26\"],[1.0,\"#f0f921\"]]}],\"contourcarpet\":[{\"type\":\"contourcarpet\",\"colorbar\":{\"outlinewidth\":0,\"ticks\":\"\"}}],\"contour\":[{\"type\":\"contour\",\"colorbar\":{\"outlinewidth\":0,\"ticks\":\"\"},\"colorscale\":[[0.0,\"#0d0887\"],[0.1111111111111111,\"#46039f\"],[0.2222222222222222,\"#7201a8\"],[0.3333333333333333,\"#9c179e\"],[0.4444444444444444,\"#bd3786\"],[0.5555555555555556,\"#d8576b\"],[0.6666666666666666,\"#ed7953\"],[0.7777777777777778,\"#fb9f3a\"],[0.8888888888888888,\"#fdca26\"],[1.0,\"#f0f921\"]]}],\"surface\":[{\"type\":\"surface\",\"colorbar\":{\"outlinewidth\":0,\"ticks\":\"\"},\"colorscale\":[[0.0,\"#0d0887\"],[0.1111111111111111,\"#46039f\"],[0.2222222222222222,\"#7201a8\"],[0.3333333333333333,\"#9c179e\"],[0.4444444444444444,\"#bd3786\"],[0.5555555555555556,\"#d8576b\"],[0.6666666666666666,\"#ed7953\"],[0.7777777777777778,\"#fb9f3a\"],[0.8888888888888888,\"#fdca26\"],[1.0,\"#f0f921\"]]}],\"mesh3d\":[{\"type\":\"mesh3d\",\"colorbar\":{\"outlinewidth\":0,\"ticks\":\"\"}}],\"scatter\":[{\"fillpattern\":{\"fillmode\":\"overlay\",\"size\":10,\"solidity\":0.2},\"type\":\"scatter\"}],\"parcoords\":[{\"type\":\"parcoords\",\"line\":{\"colorbar\":{\"outlinewidth\":0,\"ticks\":\"\"}}}],\"scatterpolargl\":[{\"type\":\"scatterpolargl\",\"marker\":{\"colorbar\":{\"outlinewidth\":0,\"ticks\":\"\"}}}],\"bar\":[{\"error_x\":{\"color\":\"#2a3f5f\"},\"error_y\":{\"color\":\"#2a3f5f\"},\"marker\":{\"line\":{\"color\":\"#E5ECF6\",\"width\":0.5},\"pattern\":{\"fillmode\":\"overlay\",\"size\":10,\"solidity\":0.2}},\"type\":\"bar\"}],\"scattergeo\":[{\"type\":\"scattergeo\",\"marker\":{\"colorbar\":{\"outlinewidth\":0,\"ticks\":\"\"}}}],\"scatterpolar\":[{\"type\":\"scatterpolar\",\"marker\":{\"colorbar\":{\"outlinewidth\":0,\"ticks\":\"\"}}}],\"histogram\":[{\"marker\":{\"pattern\":{\"fillmode\":\"overlay\",\"size\":10,\"solidity\":0.2}},\"type\":\"histogram\"}],\"scattergl\":[{\"type\":\"scattergl\",\"marker\":{\"colorbar\":{\"outlinewidth\":0,\"ticks\":\"\"}}}],\"scatter3d\":[{\"type\":\"scatter3d\",\"line\":{\"colorbar\":{\"outlinewidth\":0,\"ticks\":\"\"}},\"marker\":{\"colorbar\":{\"outlinewidth\":0,\"ticks\":\"\"}}}],\"scattermapbox\":[{\"type\":\"scattermapbox\",\"marker\":{\"colorbar\":{\"outlinewidth\":0,\"ticks\":\"\"}}}],\"scatterternary\":[{\"type\":\"scatterternary\",\"marker\":{\"colorbar\":{\"outlinewidth\":0,\"ticks\":\"\"}}}],\"scattercarpet\":[{\"type\":\"scattercarpet\",\"marker\":{\"colorbar\":{\"outlinewidth\":0,\"ticks\":\"\"}}}],\"carpet\":[{\"aaxis\":{\"endlinecolor\":\"#2a3f5f\",\"gridcolor\":\"white\",\"linecolor\":\"white\",\"minorgridcolor\":\"white\",\"startlinecolor\":\"#2a3f5f\"},\"baxis\":{\"endlinecolor\":\"#2a3f5f\",\"gridcolor\":\"white\",\"linecolor\":\"white\",\"minorgridcolor\":\"white\",\"startlinecolor\":\"#2a3f5f\"},\"type\":\"carpet\"}],\"table\":[{\"cells\":{\"fill\":{\"color\":\"#EBF0F8\"},\"line\":{\"color\":\"white\"}},\"header\":{\"fill\":{\"color\":\"#C8D4E3\"},\"line\":{\"color\":\"white\"}},\"type\":\"table\"}],\"barpolar\":[{\"marker\":{\"line\":{\"color\":\"#E5ECF6\",\"width\":0.5},\"pattern\":{\"fillmode\":\"overlay\",\"size\":10,\"solidity\":0.2}},\"type\":\"barpolar\"}],\"pie\":[{\"automargin\":true,\"type\":\"pie\"}]},\"layout\":{\"autotypenumbers\":\"strict\",\"colorway\":[\"#636efa\",\"#EF553B\",\"#00cc96\",\"#ab63fa\",\"#FFA15A\",\"#19d3f3\",\"#FF6692\",\"#B6E880\",\"#FF97FF\",\"#FECB52\"],\"font\":{\"color\":\"#2a3f5f\"},\"hovermode\":\"closest\",\"hoverlabel\":{\"align\":\"left\"},\"paper_bgcolor\":\"white\",\"plot_bgcolor\":\"#E5ECF6\",\"polar\":{\"bgcolor\":\"#E5ECF6\",\"angularaxis\":{\"gridcolor\":\"white\",\"linecolor\":\"white\",\"ticks\":\"\"},\"radialaxis\":{\"gridcolor\":\"white\",\"linecolor\":\"white\",\"ticks\":\"\"}},\"ternary\":{\"bgcolor\":\"#E5ECF6\",\"aaxis\":{\"gridcolor\":\"white\",\"linecolor\":\"white\",\"ticks\":\"\"},\"baxis\":{\"gridcolor\":\"white\",\"linecolor\":\"white\",\"ticks\":\"\"},\"caxis\":{\"gridcolor\":\"white\",\"linecolor\":\"white\",\"ticks\":\"\"}},\"coloraxis\":{\"colorbar\":{\"outlinewidth\":0,\"ticks\":\"\"}},\"colorscale\":{\"sequential\":[[0.0,\"#0d0887\"],[0.1111111111111111,\"#46039f\"],[0.2222222222222222,\"#7201a8\"],[0.3333333333333333,\"#9c179e\"],[0.4444444444444444,\"#bd3786\"],[0.5555555555555556,\"#d8576b\"],[0.6666666666666666,\"#ed7953\"],[0.7777777777777778,\"#fb9f3a\"],[0.8888888888888888,\"#fdca26\"],[1.0,\"#f0f921\"]],\"sequentialminus\":[[0.0,\"#0d0887\"],[0.1111111111111111,\"#46039f\"],[0.2222222222222222,\"#7201a8\"],[0.3333333333333333,\"#9c179e\"],[0.4444444444444444,\"#bd3786\"],[0.5555555555555556,\"#d8576b\"],[0.6666666666666666,\"#ed7953\"],[0.7777777777777778,\"#fb9f3a\"],[0.8888888888888888,\"#fdca26\"],[1.0,\"#f0f921\"]],\"diverging\":[[0,\"#8e0152\"],[0.1,\"#c51b7d\"],[0.2,\"#de77ae\"],[0.3,\"#f1b6da\"],[0.4,\"#fde0ef\"],[0.5,\"#f7f7f7\"],[0.6,\"#e6f5d0\"],[0.7,\"#b8e186\"],[0.8,\"#7fbc41\"],[0.9,\"#4d9221\"],[1,\"#276419\"]]},\"xaxis\":{\"gridcolor\":\"white\",\"linecolor\":\"white\",\"ticks\":\"\",\"title\":{\"standoff\":15},\"zerolinecolor\":\"white\",\"automargin\":true,\"zerolinewidth\":2},\"yaxis\":{\"gridcolor\":\"white\",\"linecolor\":\"white\",\"ticks\":\"\",\"title\":{\"standoff\":15},\"zerolinecolor\":\"white\",\"automargin\":true,\"zerolinewidth\":2},\"scene\":{\"xaxis\":{\"backgroundcolor\":\"#E5ECF6\",\"gridcolor\":\"white\",\"linecolor\":\"white\",\"showbackground\":true,\"ticks\":\"\",\"zerolinecolor\":\"white\",\"gridwidth\":2},\"yaxis\":{\"backgroundcolor\":\"#E5ECF6\",\"gridcolor\":\"white\",\"linecolor\":\"white\",\"showbackground\":true,\"ticks\":\"\",\"zerolinecolor\":\"white\",\"gridwidth\":2},\"zaxis\":{\"backgroundcolor\":\"#E5ECF6\",\"gridcolor\":\"white\",\"linecolor\":\"white\",\"showbackground\":true,\"ticks\":\"\",\"zerolinecolor\":\"white\",\"gridwidth\":2}},\"shapedefaults\":{\"line\":{\"color\":\"#2a3f5f\"}},\"annotationdefaults\":{\"arrowcolor\":\"#2a3f5f\",\"arrowhead\":0,\"arrowwidth\":1},\"geo\":{\"bgcolor\":\"white\",\"landcolor\":\"#E5ECF6\",\"subunitcolor\":\"white\",\"showland\":true,\"showlakes\":true,\"lakecolor\":\"white\"},\"title\":{\"x\":0.05},\"mapbox\":{\"style\":\"light\"}}},\"title\":{\"text\":\"Time Series Analysis (Candlestick Chart with Buttons and Slider)\"},\"xaxis\":{\"rangeslider\":{\"visible\":true},\"rangeselector\":{\"buttons\":[{\"count\":1,\"label\":\"1m\",\"step\":\"month\",\"stepmode\":\"backward\"},{\"count\":6,\"label\":\"6m\",\"step\":\"month\",\"stepmode\":\"backward\"},{\"count\":1,\"label\":\"YTD\",\"step\":\"year\",\"stepmode\":\"todate\"},{\"count\":1,\"label\":\"1y\",\"step\":\"year\",\"stepmode\":\"backward\"},{\"step\":\"all\"}]}}},                        {\"responsive\": true}                    ).then(function(){\n",
              "                            \n",
              "var gd = document.getElementById('f3e4abc1-0acf-492a-b315-4648f540c4be');\n",
              "var x = new MutationObserver(function (mutations, observer) {{\n",
              "        var display = window.getComputedStyle(gd).display;\n",
              "        if (!display || display === 'none') {{\n",
              "            console.log([gd, 'removed!']);\n",
              "            Plotly.purge(gd);\n",
              "            observer.disconnect();\n",
              "        }}\n",
              "}});\n",
              "\n",
              "// Listen for the removal of the full notebook cells\n",
              "var notebookContainer = gd.closest('#notebook-container');\n",
              "if (notebookContainer) {{\n",
              "    x.observe(notebookContainer, {childList: true});\n",
              "}}\n",
              "\n",
              "// Listen for the clearing of the current output cell\n",
              "var outputEl = gd.closest('.output');\n",
              "if (outputEl) {{\n",
              "    x.observe(outputEl, {childList: true});\n",
              "}}\n",
              "\n",
              "                        })                };                            </script>        </div>\n",
              "</body>\n",
              "</html>"
            ]
          },
          "metadata": {}
        }
      ]
    }
  ]
}