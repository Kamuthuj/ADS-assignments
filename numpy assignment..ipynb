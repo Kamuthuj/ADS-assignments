{
 "cells": [
  {
   "cell_type": "code",
   "execution_count": 2,
   "id": "738fe600",
   "metadata": {},
   "outputs": [],
   "source": [
    "import numpy as np"
   ]
  },
  {
   "cell_type": "code",
   "execution_count": 3,
   "id": "f8bcf8c5",
   "metadata": {},
   "outputs": [],
   "source": [
    " heights = np.array([160, 155, 172, 165, 180, 158, 175, 163, 171, 168])"
   ]
  },
  {
   "cell_type": "code",
   "execution_count": 4,
   "id": "2f7bb6ac",
   "metadata": {},
   "outputs": [
    {
     "name": "stdout",
     "output_type": "stream",
     "text": [
      "[160 155 172 165 180 158 175 163 171 168]\n"
     ]
    }
   ],
   "source": [
    "print(heights)"
   ]
  },
  {
   "cell_type": "code",
   "execution_count": 5,
   "id": "89f2b7d6",
   "metadata": {},
   "outputs": [],
   "source": [
    "# Calculate the mean, median, and standard deviation of the students' heights."
   ]
  },
  {
   "cell_type": "code",
   "execution_count": 6,
   "id": "af9f136f",
   "metadata": {},
   "outputs": [
    {
     "name": "stdout",
     "output_type": "stream",
     "text": [
      "166.7\n"
     ]
    }
   ],
   "source": [
    "# calculating mean\n",
    "mean_heights = np.mean(heights)\n",
    "print(mean_heights)"
   ]
  },
  {
   "cell_type": "code",
   "execution_count": 7,
   "id": "707dad07",
   "metadata": {},
   "outputs": [
    {
     "name": "stdout",
     "output_type": "stream",
     "text": [
      "166.5\n"
     ]
    }
   ],
   "source": [
    "# calculating median\n",
    "median_heights = np.median(heights)\n",
    "print(median_heights)"
   ]
  },
  {
   "cell_type": "code",
   "execution_count": 8,
   "id": "6257d9c9",
   "metadata": {},
   "outputs": [
    {
     "name": "stdout",
     "output_type": "stream",
     "text": [
      "7.5372408744845085\n"
     ]
    }
   ],
   "source": [
    "# calculating sd.\n",
    "sd_heights = np.std(heights)\n",
    "print(sd_heights)"
   ]
  },
  {
   "cell_type": "code",
   "execution_count": 9,
   "id": "283bdc10",
   "metadata": {},
   "outputs": [],
   "source": [
    "# Create a new array with the heights normalized, i.e., each height value should be transformed to have a mean of 0 and a standard deviation of 1.\n",
    "\n"
   ]
  },
  {
   "cell_type": "code",
   "execution_count": 13,
   "id": "ecaa2c1d",
   "metadata": {},
   "outputs": [
    {
     "name": "stdout",
     "output_type": "stream",
     "text": [
      "[-0.88891945 -1.55229217  0.70317509 -0.22554673  1.76457144 -1.15426854\n",
      "  1.10119872 -0.49089581  0.57050054  0.17247691]\n"
     ]
    }
   ],
   "source": [
    "normalized_heights = (heights - mean_heights) / sd_heights\n",
    "print(normalized_heights)"
   ]
  },
  {
   "cell_type": "code",
   "execution_count": null,
   "id": "308f6c48",
   "metadata": {},
   "outputs": [],
   "source": [
    "# Determine the tallest and shortest students in the class using NumPy's argmax and argmin functions."
   ]
  },
  {
   "cell_type": "code",
   "execution_count": 14,
   "id": "6abe8957",
   "metadata": {},
   "outputs": [
    {
     "name": "stdout",
     "output_type": "stream",
     "text": [
      "4\n",
      "1\n"
     ]
    }
   ],
   "source": [
    "tallest_id = np.argmax(heights)\n",
    "shortest_id = np.argmin(heights)\n",
    "print(tallest_id)\n",
    "print(shortest_id)"
   ]
  },
  {
   "cell_type": "code",
   "execution_count": null,
   "id": "cb9e953a",
   "metadata": {},
   "outputs": [],
   "source": [
    "# calculate height difference"
   ]
  },
  {
   "cell_type": "code",
   "execution_count": 15,
   "id": "22352b03",
   "metadata": {},
   "outputs": [
    {
     "name": "stdout",
     "output_type": "stream",
     "text": [
      "[160 155 172 165 180 158 175 163 171 168]\n"
     ]
    }
   ],
   "source": [
    "print(heights)"
   ]
  },
  {
   "cell_type": "code",
   "execution_count": null,
   "id": "343c07b2",
   "metadata": {},
   "outputs": [],
   "source": [
    "# tallest_id(4) = 180\n",
    "# shortest_id(1) = 155"
   ]
  },
  {
   "cell_type": "code",
   "execution_count": 16,
   "id": "974181e7",
   "metadata": {},
   "outputs": [
    {
     "name": "stdout",
     "output_type": "stream",
     "text": [
      "25\n"
     ]
    }
   ],
   "source": [
    "height_diff = 180-155\n",
    "print(height_diff)"
   ]
  }
 ],
 "metadata": {
  "kernelspec": {
   "display_name": "Python 3 (ipykernel)",
   "language": "python",
   "name": "python3"
  },
  "language_info": {
   "codemirror_mode": {
    "name": "ipython",
    "version": 3
   },
   "file_extension": ".py",
   "mimetype": "text/x-python",
   "name": "python",
   "nbconvert_exporter": "python",
   "pygments_lexer": "ipython3",
   "version": "3.10.9"
  }
 },
 "nbformat": 4,
 "nbformat_minor": 5
}
